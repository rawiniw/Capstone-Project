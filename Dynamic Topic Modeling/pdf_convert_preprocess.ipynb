{
 "cells": [
  {
   "cell_type": "code",
   "execution_count": 1,
   "metadata": {},
   "outputs": [],
   "source": [
    "import glob\n",
    "import os"
   ]
  },
  {
   "cell_type": "code",
   "execution_count": 2,
   "metadata": {},
   "outputs": [],
   "source": [
    "annual = glob.glob(\"Walmart\\\\*10-K*.pdf\")"
   ]
  },
  {
   "cell_type": "code",
   "execution_count": 3,
   "metadata": {},
   "outputs": [
    {
     "data": {
      "text/plain": [
       "['Walmart\\\\20150401165234-04_FORM 10-K (Annual Report) Filed 040115 for the Period Ending 013115.pdf',\n",
       " 'Walmart\\\\20160330180900-04_10-K.pdf',\n",
       " 'Walmart\\\\20170331165701-04_10-K.pdf',\n",
       " 'Walmart\\\\20180330160419-04_10-K.pdf',\n",
       " 'Walmart\\\\20190328165942-04_10-K.pdf']"
      ]
     },
     "execution_count": 3,
     "metadata": {},
     "output_type": "execute_result"
    }
   ],
   "source": [
    "annual"
   ]
  },
  {
   "cell_type": "code",
   "execution_count": 7,
   "metadata": {},
   "outputs": [
    {
     "data": {
      "text/plain": [
       "bytes"
      ]
     },
     "execution_count": 7,
     "metadata": {},
     "output_type": "execute_result"
    }
   ],
   "source": [
    "type(text)"
   ]
  },
  {
   "cell_type": "code",
   "execution_count": 9,
   "metadata": {},
   "outputs": [],
   "source": [
    "import textract\n",
    "\n",
    "from nltk.tokenize import word_tokenize\n",
    "from nltk.corpus import stopwords\n",
    "from nltk.stem import WordNetLemmatizer\n",
    "\n",
    "for year, report in enumerate(annual):\n",
    "    text = textract.process(report).decode(\"utf-8\")\n",
    "    \n",
    "    #Pre-processing\n",
    "    tokens = word_tokenize(text)\n",
    "\n",
    "    punctuations = ['(',')',';',':','[',']',',','.',\"''\",'$','%','``']\n",
    "    stop_words = stopwords.words('english')\n",
    "\n",
    "    keywords = [word for word in tokens if not word in stop_words and not word in punctuations]\n",
    "    keywords_str = \" \".join(keywords)\n",
    "\n",
    "    lemmatizer = WordNetLemmatizer() \n",
    "    clean_text = lemmatizer.lemmatize(keywords_str)\n",
    "\n",
    "    with open(\"Annual_Text\\\\\" + str(year+2015) + \"_10-K.txt\", \"wb\") as text_file:\n",
    "        text_file.write(clean_text.encode())"
   ]
  }
 ],
 "metadata": {
  "kernelspec": {
   "display_name": "Python 3",
   "language": "python",
   "name": "python3"
  },
  "language_info": {
   "codemirror_mode": {
    "name": "ipython",
    "version": 3
   },
   "file_extension": ".py",
   "mimetype": "text/x-python",
   "name": "python",
   "nbconvert_exporter": "python",
   "pygments_lexer": "ipython3",
   "version": "3.7.6"
  }
 },
 "nbformat": 4,
 "nbformat_minor": 2
}
