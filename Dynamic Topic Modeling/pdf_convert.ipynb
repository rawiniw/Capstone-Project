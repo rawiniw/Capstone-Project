{
 "cells": [
  {
   "cell_type": "code",
   "execution_count": 1,
   "metadata": {},
   "outputs": [],
   "source": [
    "import glob\n",
    "import os"
   ]
  },
  {
   "cell_type": "code",
   "execution_count": 2,
   "metadata": {},
   "outputs": [],
   "source": [
    "#annual = glob.glob(\"Walmart\\\\*10-K*.pdf\")"
   ]
  },
  {
   "cell_type": "code",
   "execution_count": 14,
   "metadata": {},
   "outputs": [],
   "source": [
    "#annual"
   ]
  },
  {
   "cell_type": "code",
   "execution_count": 25,
   "metadata": {},
   "outputs": [],
   "source": [
    "full = glob.glob(\"Walmart\\\\*.pdf\")"
   ]
  },
  {
   "cell_type": "code",
   "execution_count": 33,
   "metadata": {},
   "outputs": [
    {
     "data": {
      "text/plain": [
       "'2015'"
      ]
     },
     "execution_count": 33,
     "metadata": {},
     "output_type": "execute_result"
    }
   ],
   "source": [
    "full[0][8:12]"
   ]
  },
  {
   "cell_type": "code",
   "execution_count": 35,
   "metadata": {},
   "outputs": [
    {
     "name": "stdout",
     "output_type": "stream",
     "text": [
      "Encode error with file Walmart\\20150421183230-04_no_subject68.pdf\n",
      "Encode error with file Walmart\\20160419191946-04_no_subject82.pdf\n"
     ]
    }
   ],
   "source": [
    "import textract\n",
    "import re\n",
    "from nltk.corpus import stopwords \n",
    "from nltk import word_tokenize\n",
    "from nltk.stem import WordNetLemmatizer\n",
    "regex = re.compile('[^a-zA-Z \\n]')\n",
    "\n",
    "stop_words = set(stopwords.words('english')) \n",
    "\n",
    "for doc_num, report in enumerate(full):\n",
    "    try:\n",
    "        text = textract.process(report)\n",
    "        text = text.lower()\n",
    "        text = regex.sub('', text.decode(\"utf-8\"))\n",
    "\n",
    "        text = word_tokenize(text)\n",
    "        text = [word for word in text if not word in stop_words]\n",
    "\n",
    "        text = ' '.join(text)\n",
    "\n",
    "        lemmatizer = WordNetLemmatizer() \n",
    "        text = lemmatizer.lemmatize(text)\n",
    "\n",
    "        with open(\"Full_Text\\\\\" + report[8:12] + \"_\" + str(doc_num) + \".txt\", \"wb\") as text_file:\n",
    "            text_file.write(text.encode(\"utf-8\"))\n",
    "    except:\n",
    "        print(f'Encode error with file {report}')"
   ]
  }
 ],
 "metadata": {
  "kernelspec": {
   "display_name": "Python 3",
   "language": "python",
   "name": "python3"
  },
  "language_info": {
   "codemirror_mode": {
    "name": "ipython",
    "version": 3
   },
   "file_extension": ".py",
   "mimetype": "text/x-python",
   "name": "python",
   "nbconvert_exporter": "python",
   "pygments_lexer": "ipython3",
   "version": "3.7.1"
  }
 },
 "nbformat": 4,
 "nbformat_minor": 2
}
