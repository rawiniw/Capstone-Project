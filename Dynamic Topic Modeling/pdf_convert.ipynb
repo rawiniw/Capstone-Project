{
 "cells": [
  {
   "cell_type": "code",
   "execution_count": 1,
   "metadata": {},
   "outputs": [],
   "source": [
    "import glob\n",
    "import os"
   ]
  },
  {
   "cell_type": "code",
   "execution_count": 2,
   "metadata": {},
   "outputs": [],
   "source": [
    "#annual = glob.glob(\"Walmart\\\\*10-K*.pdf\")"
   ]
  },
  {
   "cell_type": "code",
   "execution_count": 3,
   "metadata": {},
   "outputs": [],
   "source": [
    "#annual"
   ]
  },
  {
   "cell_type": "code",
   "execution_count": 4,
   "metadata": {},
   "outputs": [],
   "source": [
    "full = glob.glob(\"Walmart\\\\*.pdf\")"
   ]
  },
  {
   "cell_type": "code",
   "execution_count": 5,
   "metadata": {},
   "outputs": [
    {
     "data": {
      "text/plain": [
       "'2015'"
      ]
     },
     "execution_count": 5,
     "metadata": {},
     "output_type": "execute_result"
    }
   ],
   "source": [
    "full[0][8:12]"
   ]
  },
  {
   "cell_type": "code",
   "execution_count": 6,
   "metadata": {},
   "outputs": [
    {
     "name": "stderr",
     "output_type": "stream",
     "text": [
      "[nltk_data] Downloading package averaged_perceptron_tagger to\n",
      "[nltk_data]     C:\\Users\\chenson\\AppData\\Roaming\\nltk_data...\n",
      "[nltk_data]   Package averaged_perceptron_tagger is already up-to-\n",
      "[nltk_data]       date!\n"
     ]
    },
    {
     "name": "stdout",
     "output_type": "stream",
     "text": [
      "Encode error with file Walmart\\20150421183230-04_no_subject68.pdf\n",
      "Encode error with file Walmart\\20160419191946-04_no_subject82.pdf\n"
     ]
    }
   ],
   "source": [
    "import textract\n",
    "import re\n",
    "from nltk.corpus import stopwords \n",
    "from nltk import word_tokenize\n",
    "from nltk.stem import WordNetLemmatizer\n",
    "regex = re.compile('[^a-zA-Z \\n]')\n",
    "import nltk\n",
    "nltk.download('averaged_perceptron_tagger')\n",
    "\n",
    "stop_words = set(stopwords.words('english')) \n",
    "\n",
    "folder = \"Full_Text\\\\\"\n",
    "\n",
    "for doc_num, report in enumerate(full):\n",
    "    try:\n",
    "        text = textract.process(report)\n",
    "        text = text.lower()\n",
    "        text = regex.sub('', text.decode(\"utf-8\"))\n",
    "\n",
    "        text = word_tokenize(text)\n",
    "        text = [word for word in text if not word in stop_words]\n",
    "        \n",
    "#         text = nltk.pos_tag(text)\n",
    "#         keep_pos = [\"NN\", \"NNS\", \"VB\", \"VBD\", \"VBN\", \"VBP\", \"VBZ\"]\n",
    "#         text = [tup[0] for tup in text if tup[1] in keep_pos]\n",
    "        \n",
    "        text = ' '.join(text)\n",
    "\n",
    "        lemmatizer = WordNetLemmatizer() \n",
    "        text = lemmatizer.lemmatize(text)\n",
    "\n",
    "        with open(folder + report[8:12] + \"_\" + str(doc_num) + \".txt\", \"wb\") as text_file:\n",
    "            text_file.write(text.encode(\"utf-8\"))\n",
    "    except:\n",
    "        print(f'Encode error with file {report}')"
   ]
  },
  {
   "cell_type": "code",
   "execution_count": 7,
   "metadata": {},
   "outputs": [
    {
     "data": {
      "text/plain": [
       "'C:\\\\Users\\\\chenson\\\\Documents\\\\GitHub\\\\Capstone-Project\\\\Dynamic Topic Modeling'"
      ]
     },
     "execution_count": 7,
     "metadata": {},
     "output_type": "execute_result"
    }
   ],
   "source": [
    "os.getcwd()"
   ]
  },
  {
   "cell_type": "code",
   "execution_count": 15,
   "metadata": {},
   "outputs": [
    {
     "name": "stdout",
     "output_type": "stream",
     "text": [
      "Year 2015 has 14 documents\n",
      "Year 2016 has 15 documents\n",
      "Year 2017 has 27 documents\n",
      "Year 2018 has 26 documents\n",
      "Year 2019 has 21 documents\n"
     ]
    }
   ],
   "source": [
    "byte_lim = 10000\n",
    "\n",
    "for filename in os.listdir(folder):\n",
    "    if os.path.getsize(folder + filename) < byte_lim:\n",
    "        os.remove(folder + filename)\n",
    "\n",
    "import glob\n",
    "\n",
    "time_seq = []\n",
    "\n",
    "for year in range(2015, 2020):\n",
    "    docs_num = len(glob.glob(folder + \"\\\\\" + str(year) + \"*\"))\n",
    "    print(f\"Year {year} has {docs_num} documents\")\n",
    "    time_seq.append(docs_num)"
   ]
  }
 ],
 "metadata": {
  "kernelspec": {
   "display_name": "Python 3",
   "language": "python",
   "name": "python3"
  },
  "language_info": {
   "codemirror_mode": {
    "name": "ipython",
    "version": 3
   },
   "file_extension": ".py",
   "mimetype": "text/x-python",
   "name": "python",
   "nbconvert_exporter": "python",
   "pygments_lexer": "ipython3",
   "version": "3.7.1"
  }
 },
 "nbformat": 4,
 "nbformat_minor": 2
}
