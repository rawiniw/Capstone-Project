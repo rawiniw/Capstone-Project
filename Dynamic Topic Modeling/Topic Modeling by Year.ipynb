{
 "cells": [
  {
   "cell_type": "code",
   "execution_count": 82,
   "metadata": {},
   "outputs": [
    {
     "data": {
      "text/plain": [
       "21"
      ]
     },
     "execution_count": 82,
     "metadata": {},
     "output_type": "execute_result"
    }
   ],
   "source": [
    "import glob\n",
    "import os\n",
    "\n",
    "file_list = glob.glob(os.path.join(os.getcwd(), \"Full_Text\", \"*.txt\"))\n",
    "\n",
    "corpus2015 = []\n",
    "corpus2016 = []\n",
    "corpus2017 = []\n",
    "corpus2018 = []\n",
    "corpus2019 = []\n",
    "\n",
    "\n",
    "for file_path in file_list:\n",
    "    with open(file_path, encoding=\"utf8\") as f_input:\n",
    "        if \"2015\" in file_path:\n",
    "            corpus2015.append(f_input.read())\n",
    "        elif \"2016\" in file_path:\n",
    "            corpus2016.append(f_input.read())\n",
    "        elif \"2017\" in file_path:\n",
    "            corpus2017.append(f_input.read())  \n",
    "        elif \"2018\" in file_path:\n",
    "            corpus2018.append(f_input.read())\n",
    "        elif \"2019\" in file_path:\n",
    "            corpus2019.append(f_input.read())\n",
    "            \n",
    "len(corpus2019)"
   ]
  },
  {
   "cell_type": "code",
   "execution_count": 85,
   "metadata": {},
   "outputs": [],
   "source": [
    "import re\n",
    "import string\n",
    "import nltk\n",
    "from nltk.tokenize import word_tokenize, sent_tokenize\n",
    "from nltk.corpus import stopwords\n",
    "from nltk.stem import WordNetLemmatizer\n",
    "from nltk.corpus import wordnet\n",
    "\n",
    "\n",
    "def clean_text(corpus):\n",
    "\n",
    "    cleaned_text = []\n",
    "\n",
    "    for item in corpus:\n",
    "        item.lower()\n",
    "        text_nonum = re.sub(r'\\d+','', item)\n",
    "\n",
    "        text_nopunc = text_nonum.translate(str.maketrans(\"\",\"\", string.punctuation))\n",
    "        text_nowhitespace = text_nopunc.strip()\n",
    "\n",
    "        tokens = word_tokenize(text_nowhitespace)\n",
    "\n",
    "        stop_words = set(stopwords.words('english'))\n",
    "        text_nostopwords = [i for i in tokens if not i in stop_words]\n",
    "        \n",
    "        pos_tagged = nltk.pos_tag(text_nostopwords)\n",
    "        pos_keep = [\"NN\", \"NNS\",\"VB\", \"VBD\", \"VBN\", \"VBP\", \"VBZ\"]\n",
    "        pos_cleaned = [tup[0] for tup in pos_tagged if tup[1] in pos_keep]\n",
    "\n",
    "        text_str = \" \".join(pos_cleaned)\n",
    "\n",
    "        lemmatizer = WordNetLemmatizer() \n",
    "        text_lemmatized = lemmatizer.lemmatize(text_str)\n",
    "\n",
    "        cleaned_text.append(text_lemmatized)\n",
    "        \n",
    "        text_str = \" \".join(cleaned_text)\n",
    "    \n",
    "    return text_str"
   ]
  },
  {
   "cell_type": "markdown",
   "metadata": {},
   "source": [
    "## LDA on 2015 Documents"
   ]
  },
  {
   "cell_type": "code",
   "execution_count": 95,
   "metadata": {},
   "outputs": [],
   "source": [
    "cleaned_2015 = clean_text(corpus2015)"
   ]
  },
  {
   "cell_type": "code",
   "execution_count": 96,
   "metadata": {},
   "outputs": [],
   "source": [
    "text_2015 = sent_tokenize(cleaned_2015)"
   ]
  },
  {
   "cell_type": "code",
   "execution_count": 97,
   "metadata": {
    "scrolled": true
   },
   "outputs": [],
   "source": [
    "from sklearn.feature_extraction.text import CountVectorizer\n",
    "import numpy as np\n",
    "from sklearn.decomposition import LatentDirichletAllocation as LDA\n",
    "\n",
    "count_vectorizer = CountVectorizer()\n",
    "count_data = count_vectorizer.fit_transform(text_2015)"
   ]
  },
  {
   "cell_type": "code",
   "execution_count": 98,
   "metadata": {},
   "outputs": [
    {
     "name": "stdout",
     "output_type": "stream",
     "text": [
      "\n",
      "Topic #0:\n",
      "employers battery contravention restrain restrict convenes liquor bear coordination mail\n",
      "\n",
      "Topic #1:\n",
      "employers battery contravention restrain restrict convenes liquor bear coordination mail\n",
      "\n",
      "Topic #2:\n",
      "employers battery contravention restrain restrict convenes liquor bear coordination mail\n",
      "\n",
      "Topic #3:\n",
      "employers battery contravention restrain restrict convenes liquor bear coordination mail\n",
      "\n",
      "Topic #4:\n",
      "income company sales cash walmart operations ended year stores share\n"
     ]
    }
   ],
   "source": [
    "number_topics = 5\n",
    "number_words = 10\n",
    "\n",
    "lda = LDA(n_components=number_topics, n_jobs=-1, random_state =33)\n",
    "lda.fit(count_data)\n",
    "\n",
    "def print_topics(model, count_vectorizer, n_top_words):\n",
    "    words = count_vectorizer.get_feature_names()\n",
    "    for topic_idx, topic in enumerate(model.components_):\n",
    "        print(\"\\nTopic #%d:\" % topic_idx)\n",
    "        print(\" \".join([words[i]\n",
    "                        for i in topic.argsort()[:-n_top_words - 1:-1]]))\n",
    "        \n",
    "print_topics(lda, count_vectorizer, number_words)"
   ]
  },
  {
   "cell_type": "markdown",
   "metadata": {},
   "source": [
    "## LDA on 2016 Documents"
   ]
  },
  {
   "cell_type": "code",
   "execution_count": 99,
   "metadata": {},
   "outputs": [],
   "source": [
    "cleaned_2016 = clean_text(corpus2016)\n",
    "text_2016 = sent_tokenize(cleaned_2016)"
   ]
  },
  {
   "cell_type": "code",
   "execution_count": 100,
   "metadata": {},
   "outputs": [
    {
     "name": "stdout",
     "output_type": "stream",
     "text": [
      "\n",
      "Topic #0:\n",
      "ipad retaliation missouri bid mission resumed misinterpretation families miscalculation bestinclass\n",
      "\n",
      "Topic #1:\n",
      "plan walmart income company cash sales shares stock performance year\n",
      "\n",
      "Topic #2:\n",
      "ipad retaliation missouri bid mission resumed misinterpretation families miscalculation bestinclass\n",
      "\n",
      "Topic #3:\n",
      "ipad retaliation missouri bid mission resumed misinterpretation families miscalculation bestinclass\n",
      "\n",
      "Topic #4:\n",
      "ipad retaliation missouri bid mission resumed misinterpretation families miscalculation bestinclass\n"
     ]
    }
   ],
   "source": [
    "count_data_2016 = count_vectorizer.fit_transform(text_2016)\n",
    "\n",
    "lda = LDA(n_components=number_topics, n_jobs=-1, random_state =33)\n",
    "lda.fit(count_data_2016)\n",
    "        \n",
    "print_topics(lda, count_vectorizer, number_words)"
   ]
  },
  {
   "cell_type": "markdown",
   "metadata": {},
   "source": [
    "## LDA on 2017 Documents"
   ]
  },
  {
   "cell_type": "code",
   "execution_count": 101,
   "metadata": {},
   "outputs": [
    {
     "name": "stdout",
     "output_type": "stream",
     "text": [
      "\n",
      "Topic #0:\n",
      "sizes rp rst monro ellis rudoplh monies chairmans embrace moneyback\n",
      "\n",
      "Topic #1:\n",
      "securities notes debt company interest date series prospectus amount walmart\n",
      "\n",
      "Topic #2:\n",
      "sizes rp rst monro ellis rudoplh monies chairmans embrace moneyback\n",
      "\n",
      "Topic #3:\n",
      "sizes rp rst monro ellis rudoplh monies chairmans embrace moneyback\n",
      "\n",
      "Topic #4:\n",
      "sizes rp rst monro ellis rudoplh monies chairmans embrace moneyback\n"
     ]
    }
   ],
   "source": [
    "cleaned_2017 = clean_text(corpus2017)\n",
    "text_2017 = sent_tokenize(cleaned_2017)\n",
    "\n",
    "count_data_2017 = count_vectorizer.fit_transform(text_2017)\n",
    "\n",
    "lda = LDA(n_components=number_topics, n_jobs=-1, random_state =33)\n",
    "lda.fit(count_data_2017)\n",
    "        \n",
    "print_topics(lda, count_vectorizer, number_words)"
   ]
  },
  {
   "cell_type": "markdown",
   "metadata": {},
   "source": [
    "## LDA on 2018 Documents"
   ]
  },
  {
   "cell_type": "code",
   "execution_count": 102,
   "metadata": {},
   "outputs": [
    {
     "name": "stdout",
     "output_type": "stream",
     "text": [
      "\n",
      "Topic #0:\n",
      "zynga port populace ponds pollutant daytoday dbiie pol poison dbiif\n",
      "\n",
      "Topic #1:\n",
      "company notes securities date section stock plan interest shares walmart\n",
      "\n",
      "Topic #2:\n",
      "zynga port populace ponds pollutant daytoday dbiie pol poison dbiif\n",
      "\n",
      "Topic #3:\n",
      "zynga port populace ponds pollutant daytoday dbiie pol poison dbiif\n",
      "\n",
      "Topic #4:\n",
      "zynga port populace ponds pollutant daytoday dbiie pol poison dbiif\n"
     ]
    }
   ],
   "source": [
    "cleaned_2018 = clean_text(corpus2018)\n",
    "text_2018 = sent_tokenize(cleaned_2018)\n",
    "\n",
    "count_data_2018 = count_vectorizer.fit_transform(text_2018)\n",
    "\n",
    "lda = LDA(n_components=number_topics, n_jobs=-1, random_state =33)\n",
    "lda.fit(count_data_2018)\n",
    "        \n",
    "print_topics(lda, count_vectorizer, number_words)"
   ]
  },
  {
   "cell_type": "markdown",
   "metadata": {},
   "source": [
    "## LDA on 2019 Documents"
   ]
  },
  {
   "cell_type": "code",
   "execution_count": 103,
   "metadata": {},
   "outputs": [
    {
     "name": "stdout",
     "output_type": "stream",
     "text": [
      "\n",
      "Topic #0:\n",
      "lastmile salaried oo sabotage sac consultations construe saco gratia construct\n",
      "\n",
      "Topic #1:\n",
      "lastmile salaried oo sabotage sac consultations construe saco gratia construct\n",
      "\n",
      "Topic #2:\n",
      "securities debt company notes interest prospectus series income date walmart\n",
      "\n",
      "Topic #3:\n",
      "lastmile salaried oo sabotage sac consultations construe saco gratia construct\n",
      "\n",
      "Topic #4:\n",
      "lastmile salaried oo sabotage sac consultations construe saco gratia construct\n"
     ]
    }
   ],
   "source": [
    "cleaned_2019 = clean_text(corpus2019)\n",
    "text_2019 = sent_tokenize(cleaned_2019)\n",
    "\n",
    "count_data_2019 = count_vectorizer.fit_transform(text_2019)\n",
    "\n",
    "lda = LDA(n_components=number_topics, n_jobs=-1, random_state =33)\n",
    "lda.fit(count_data_2019)\n",
    "        \n",
    "print_topics(lda, count_vectorizer, number_words)"
   ]
  }
 ],
 "metadata": {
  "kernelspec": {
   "display_name": "Python 3",
   "language": "python",
   "name": "python3"
  },
  "language_info": {
   "codemirror_mode": {
    "name": "ipython",
    "version": 3
   },
   "file_extension": ".py",
   "mimetype": "text/x-python",
   "name": "python",
   "nbconvert_exporter": "python",
   "pygments_lexer": "ipython3",
   "version": "3.7.6"
  }
 },
 "nbformat": 4,
 "nbformat_minor": 4
}
