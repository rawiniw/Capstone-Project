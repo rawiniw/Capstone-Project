{
 "cells": [
  {
   "cell_type": "code",
   "execution_count": 195,
   "metadata": {},
   "outputs": [],
   "source": [
    "import glob\n",
    "import os\n",
    "\n",
    "file_list = glob.glob(os.path.join(os.getcwd(), \"Annual_Text\", \"*.txt\"))\n",
    "\n",
    "corpus = []\n",
    "\n",
    "for file_path in file_list:\n",
    "    with open(file_path, encoding=\"utf8\") as f_input:\n",
    "        corpus.append(f_input.read())\n",
    "\n",
    "# print(corpus)"
   ]
  },
  {
   "cell_type": "code",
   "execution_count": 196,
   "metadata": {},
   "outputs": [
    {
     "data": {
      "text/plain": [
       "325576"
      ]
     },
     "execution_count": 196,
     "metadata": {},
     "output_type": "execute_result"
    }
   ],
   "source": [
    "len(corpus[0])"
   ]
  },
  {
   "cell_type": "code",
   "execution_count": 197,
   "metadata": {},
   "outputs": [],
   "source": [
    "# import re\n",
    "# sum(1 for _ in re.finditer(r'\\b%s\\b' % re.escape(\"PART III\"), corpus[1]))"
   ]
  },
  {
   "cell_type": "code",
   "execution_count": 198,
   "metadata": {},
   "outputs": [],
   "source": [
    "all_10ks = []\n",
    "for item in corpus:\n",
    "    result = re.search('PART I(.*)PART III', item) #only grabbing text in PART I & II on 10K\n",
    "    output = str(result.group(1))\n",
    "    all_10ks.append(output)"
   ]
  },
  {
   "cell_type": "code",
   "execution_count": 199,
   "metadata": {},
   "outputs": [],
   "source": [
    "import string\n",
    "from nltk.tokenize import word_tokenize, sent_tokenize\n",
    "from nltk.corpus import stopwords\n",
    "from nltk.stem import WordNetLemmatizer\n",
    "\n",
    "cleaned_text = []\n",
    "\n",
    "for item in all_10ks:\n",
    "    item.lower()\n",
    "    text_nonum = re.sub(r'\\d+','', item)\n",
    "    \n",
    "    text_nopunc = text_nonum.translate(str.maketrans(\"\",\"\", string.punctuation))\n",
    "    text_nowhitespace = text_nopunc.strip()\n",
    "    \n",
    "    tokens = word_tokenize(text_nowhitespace)\n",
    "    \n",
    "    stop_words = set(stopwords.words('english'))\n",
    "    text_nostopwords = [i for i in tokens if not i in stop_words]\n",
    "    \n",
    "    text_str = \" \".join(text_nostopwords)\n",
    "    \n",
    "    lemmatizer = WordNetLemmatizer() \n",
    "    text_lemmatized = lemmatizer.lemmatize(text_str)\n",
    "    \n",
    "    cleaned_text.append(text_lemmatized)"
   ]
  },
  {
   "cell_type": "markdown",
   "metadata": {},
   "source": [
    "## LDA on 2015 Truncated 10-K"
   ]
  },
  {
   "cell_type": "code",
   "execution_count": 200,
   "metadata": {},
   "outputs": [],
   "source": [
    "text_2015 = sent_tokenize(cleaned_text[0])"
   ]
  },
  {
   "cell_type": "code",
   "execution_count": 201,
   "metadata": {
    "scrolled": true
   },
   "outputs": [],
   "source": [
    "from sklearn.feature_extraction.text import CountVectorizer\n",
    "import numpy as np\n",
    "from sklearn.decomposition import LatentDirichletAllocation as LDA\n",
    "\n",
    "count_vectorizer = CountVectorizer()\n",
    "count_data = count_vectorizer.fit_transform(text_2015)"
   ]
  },
  {
   "cell_type": "code",
   "execution_count": 202,
   "metadata": {},
   "outputs": [
    {
     "name": "stdout",
     "output_type": "stream",
     "text": [
      "\n",
      "Topic #0:\n",
      "reach divisional perception percent per domestically penetration douglas droughts payroll\n",
      "\n",
      "Topic #1:\n",
      "reach divisional perception percent per domestically penetration douglas droughts payroll\n",
      "\n",
      "Topic #2:\n",
      "us walmart stores the information operations financial retail company segment\n"
     ]
    }
   ],
   "source": [
    "number_topics = 3\n",
    "number_words = 10\n",
    "\n",
    "lda = LDA(n_components=number_topics, n_jobs=-1, random_state =33)\n",
    "lda.fit(count_data)\n",
    "\n",
    "def print_topics(model, count_vectorizer, n_top_words):\n",
    "    words = count_vectorizer.get_feature_names()\n",
    "    for topic_idx, topic in enumerate(model.components_):\n",
    "        print(\"\\nTopic #%d:\" % topic_idx)\n",
    "        print(\" \".join([words[i]\n",
    "                        for i in topic.argsort()[:-n_top_words - 1:-1]]))\n",
    "        \n",
    "print_topics(lda, count_vectorizer, number_words)"
   ]
  },
  {
   "cell_type": "markdown",
   "metadata": {},
   "source": [
    "## LDA on 2016 Truncated 10-K"
   ]
  },
  {
   "cell_type": "code",
   "execution_count": 203,
   "metadata": {},
   "outputs": [],
   "source": [
    "text_2016 = sent_tokenize(cleaned_text[1])"
   ]
  },
  {
   "cell_type": "code",
   "execution_count": 204,
   "metadata": {},
   "outputs": [
    {
     "name": "stdout",
     "output_type": "stream",
     "text": [
      "\n",
      "Topic #0:\n",
      "zoning petition perishables electric permitting elected persons either petrol entered\n",
      "\n",
      "Topic #1:\n",
      "us walmart stores the operations financial information retail may could\n",
      "\n",
      "Topic #2:\n",
      "zoning petition perishables electric permitting elected persons either petrol entered\n"
     ]
    }
   ],
   "source": [
    "count_data_2016 = count_vectorizer.fit_transform(text_2016)\n",
    "\n",
    "lda = LDA(n_components=number_topics, n_jobs=-1, random_state =33)\n",
    "lda.fit(count_data_2016)\n",
    "        \n",
    "print_topics(lda, count_vectorizer, number_words)"
   ]
  },
  {
   "cell_type": "markdown",
   "metadata": {},
   "source": [
    "## LDA on 2017 Truncated 10-K"
   ]
  },
  {
   "cell_type": "code",
   "execution_count": 205,
   "metadata": {},
   "outputs": [
    {
     "name": "stdout",
     "output_type": "stream",
     "text": [
      "\n",
      "Topic #0:\n",
      "abide percent payable electricity elected either efficiency penetration perception elsewhere\n",
      "\n",
      "Topic #1:\n",
      "us walmart operations financial information the stores retail could business\n",
      "\n",
      "Topic #2:\n",
      "abide percent payable electricity elected either efficiency penetration perception elsewhere\n"
     ]
    }
   ],
   "source": [
    "text_2017 = sent_tokenize(cleaned_text[2])\n",
    "\n",
    "count_data_2017 = count_vectorizer.fit_transform(text_2017)\n",
    "\n",
    "lda = LDA(n_components=number_topics, n_jobs=-1, random_state =33)\n",
    "lda.fit(count_data_2017)\n",
    "        \n",
    "print_topics(lda, count_vectorizer, number_words)"
   ]
  },
  {
   "cell_type": "markdown",
   "metadata": {},
   "source": [
    "## LDA on 2018 Truncated 10-K"
   ]
  },
  {
   "cell_type": "code",
   "execution_count": 206,
   "metadata": {},
   "outputs": [
    {
     "name": "stdout",
     "output_type": "stream",
     "text": [
      "\n",
      "Topic #0:\n",
      "lake devaluations difficulties differently plc pleas pleasure dickson devoted devote\n",
      "\n",
      "Topic #1:\n",
      "company fiscal the us income walmart net financial tax january\n",
      "\n",
      "Topic #2:\n",
      "lake devaluations difficulties differently plc pleas pleasure dickson devoted devote\n"
     ]
    }
   ],
   "source": [
    "text_2018 = sent_tokenize(cleaned_text[3])\n",
    "\n",
    "count_data_2018 = count_vectorizer.fit_transform(text_2018)\n",
    "\n",
    "lda = LDA(n_components=number_topics, n_jobs=-1, random_state =33)\n",
    "lda.fit(count_data_2018)\n",
    "        \n",
    "print_topics(lda, count_vectorizer, number_words)"
   ]
  },
  {
   "cell_type": "markdown",
   "metadata": {},
   "source": [
    "## LDA on 2018 Truncated 10-K"
   ]
  },
  {
   "cell_type": "code",
   "execution_count": 207,
   "metadata": {},
   "outputs": [
    {
     "name": "stdout",
     "output_type": "stream",
     "text": [
      "\n",
      "Topic #0:\n",
      "qualifies contravention recommendations reconcile reconciling faulty contributing contributes recover favor\n",
      "\n",
      "Topic #1:\n",
      "company fiscal the net income us walmart financial january sales\n",
      "\n",
      "Topic #2:\n",
      "qualifies contravention recommendations reconcile reconciling faulty contributing contributes recover favor\n"
     ]
    }
   ],
   "source": [
    "text_2019 = sent_tokenize(cleaned_text[4])\n",
    "\n",
    "count_data_2019 = count_vectorizer.fit_transform(text_2019)\n",
    "\n",
    "lda = LDA(n_components=number_topics, n_jobs=-1, random_state =33)\n",
    "lda.fit(count_data_2019)\n",
    "        \n",
    "print_topics(lda, count_vectorizer, number_words)"
   ]
  }
 ],
 "metadata": {
  "kernelspec": {
   "display_name": "Python 3",
   "language": "python",
   "name": "python3"
  },
  "language_info": {
   "codemirror_mode": {
    "name": "ipython",
    "version": 3
   },
   "file_extension": ".py",
   "mimetype": "text/x-python",
   "name": "python",
   "nbconvert_exporter": "python",
   "pygments_lexer": "ipython3",
   "version": "3.7.6"
  }
 },
 "nbformat": 4,
 "nbformat_minor": 4
}
