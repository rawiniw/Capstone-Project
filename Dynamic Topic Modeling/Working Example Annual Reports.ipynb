{
 "cells": [
  {
   "cell_type": "code",
   "execution_count": 1,
   "metadata": {},
   "outputs": [],
   "source": [
    "import os, gensim\n",
    "\n",
    "def iter_documents(top_directory):\n",
    "    \"\"\"Iterate over all documents, yielding a document (=list of utf8 tokens) at a time.\"\"\"\n",
    "    for root, dirs, files in os.walk(top_directory):\n",
    "        for file in filter(lambda file: file.endswith('.txt'), files):\n",
    "            document = open(os.path.join(root, file), encoding='utf8').read() # read the entire document, as one big string\n",
    "            yield gensim.utils.tokenize(document, lower=True) # or whatever tokenization suits you\n",
    "\n",
    "class MyCorpus(object):\n",
    "    def __init__(self, top_dir):\n",
    "        self.top_dir = top_dir\n",
    "        self.dictionary = gensim.corpora.Dictionary(iter_documents(top_dir))\n",
    "        self.dictionary.filter_extremes(no_below=1, keep_n=30000) # check API docs for pruning params\n",
    "\n",
    "    def __iter__(self):\n",
    "        for tokens in iter_documents(self.top_dir):\n",
    "            yield self.dictionary.doc2bow(tokens)\n",
    "\n",
    "corpus = MyCorpus('Annual_Text') # create a dictionary"
   ]
  },
  {
   "cell_type": "code",
   "execution_count": 11,
   "metadata": {},
   "outputs": [],
   "source": [
    "import logging\n",
    "import os\n",
    "from gensim import corpora, utils\n",
    "from gensim.models.wrappers.dtmmodel import DtmModel\n",
    "import numpy as np\n",
    "\n",
    "os.environ['DTM_PATH'] = r\"C:\\Users\\spong\\Documents\\GitHub\\Capstone-Project\\Dynamic Topic Modeling\\dtm-win64.exe\"\n",
    "\n",
    "if not os.environ.get('DTM_PATH', None):\n",
    "    raise ValueError(\"SKIP: You need to set the DTM path\")"
   ]
  },
  {
   "cell_type": "code",
   "execution_count": 9,
   "metadata": {},
   "outputs": [],
   "source": [
    "time_seq = [1, 1, 1, 1, 1]"
   ]
  },
  {
   "cell_type": "code",
   "execution_count": 12,
   "metadata": {},
   "outputs": [],
   "source": [
    "dtm_path = os.environ['DTM_PATH']"
   ]
  },
  {
   "cell_type": "code",
   "execution_count": 13,
   "metadata": {},
   "outputs": [],
   "source": [
    "num_topics = 2\n",
    "\n",
    "model = DtmModel(dtm_path, corpus, time_seq, num_topics=num_topics,\n",
    "                 id2word=corpus.dictionary, initialize_lda=True)"
   ]
  },
  {
   "cell_type": "code",
   "execution_count": 14,
   "metadata": {},
   "outputs": [],
   "source": [
    "topic_list = []\n",
    "\n",
    "for id in range(num_topics):\n",
    "    topic = [model.show_topic(topicid=id, time=time, topn=10) for time in range(5)]\n",
    "    topic_list.append(topic)"
   ]
  },
  {
   "cell_type": "code",
   "execution_count": 15,
   "metadata": {
    "scrolled": true
   },
   "outputs": [
    {
     "data": {
      "text/plain": [
       "[[(0.02654325823240403, 'saye'),\n",
       "  (0.014823163026218911, 'monthly'),\n",
       "  (0.011234711792051006, 'charles'),\n",
       "  (0.011234711792051006, 'holley'),\n",
       "  (0.008609863977657351, 'ceasing'),\n",
       "  (0.008609863977657351, 'itepa'),\n",
       "  (0.008592141302788434, 'relation'),\n",
       "  (0.00851917159304809, 'subtotals'),\n",
       "  (0.00851917159304809, 'cyberattacks'),\n",
       "  (0.008428573035991154, 'buttons')],\n",
       " [(0.025044671122088327, 'saye'),\n",
       "  (0.014334382987302585, 'monthly'),\n",
       "  (0.011009966920568777, 'charles'),\n",
       "  (0.011009966920568777, 'holley'),\n",
       "  (0.008688451583905065, 'buttons'),\n",
       "  (0.008567935193480673, 'subtotals'),\n",
       "  (0.008567935193480673, 'cyberattacks'),\n",
       "  (0.008472559135189166, 'relation'),\n",
       "  (0.00844819407427192, 'itepa'),\n",
       "  (0.00844819407427192, 'ceasing')],\n",
       " [(0.024975468596310557, 'saye'),\n",
       "  (0.014332969145585614, 'monthly'),\n",
       "  (0.011009663619102276, 'charles'),\n",
       "  (0.011009663619102276, 'holley'),\n",
       "  (0.008689916265765573, 'buttons'),\n",
       "  (0.008569108835252658, 'subtotals'),\n",
       "  (0.008569108835252658, 'cyberattacks'),\n",
       "  (0.00847282370300864, 'relation'),\n",
       "  (0.008448700321909827, 'itepa'),\n",
       "  (0.008448700321909827, 'ceasing')],\n",
       " [(0.02500488527337084, 'saye'),\n",
       "  (0.014337544625387095, 'monthly'),\n",
       "  (0.011011202869675876, 'charles'),\n",
       "  (0.011011202869675876, 'holley'),\n",
       "  (0.008688818639297111, 'buttons'),\n",
       "  (0.008568720661005716, 'subtotals'),\n",
       "  (0.008568720661005716, 'cyberattacks'),\n",
       "  (0.008472989960166327, 'relation'),\n",
       "  (0.008448918444334569, 'itepa'),\n",
       "  (0.008448918444334569, 'ceasing')],\n",
       " [(0.025008625793083508, 'saye'),\n",
       "  (0.014335386864824736, 'monthly'),\n",
       "  (0.011011108390566786, 'charles'),\n",
       "  (0.011011108390566786, 'holley'),\n",
       "  (0.008689671134761524, 'buttons'),\n",
       "  (0.008569344446659601, 'subtotals'),\n",
       "  (0.008569344446659601, 'cyberattacks'),\n",
       "  (0.008473000815137606, 'relation'),\n",
       "  (0.008449020841516294, 'itepa'),\n",
       "  (0.008449020841516294, 'ceasing')]]"
      ]
     },
     "execution_count": 15,
     "metadata": {},
     "output_type": "execute_result"
    }
   ],
   "source": [
    "topic_list[0]"
   ]
  },
  {
   "cell_type": "code",
   "execution_count": 16,
   "metadata": {
    "scrolled": true
   },
   "outputs": [
    {
     "data": {
      "text/plain": [
       "[[(0.12044358565280402, 'prsus'),\n",
       "  (0.042331169186559284, 'cty'),\n",
       "  (0.024936282538935685, 'grandfathered'),\n",
       "  (0.021587367285442558, 'pharma'),\n",
       "  (0.021587367285442558, 'purdue'),\n",
       "  (0.018922337450615983, 'acquiror'),\n",
       "  (0.015684182407215263, 'omni'),\n",
       "  (0.014862899792817574, 'comm'),\n",
       "  (0.013797742820275303, 'flipkart'),\n",
       "  (0.0129929522325719, 'super')],\n",
       " [(0.12139827302958492, 'prsus'),\n",
       "  (0.04228034948861131, 'cty'),\n",
       "  (0.024969545863932387, 'grandfathered'),\n",
       "  (0.021600585070269636, 'pharma'),\n",
       "  (0.021600585070269636, 'purdue'),\n",
       "  (0.018995804131426833, 'acquiror'),\n",
       "  (0.015697019614995915, 'omni'),\n",
       "  (0.014883142678547512, 'comm'),\n",
       "  (0.01381845464460863, 'flipkart'),\n",
       "  (0.01301066464069764, 'super')],\n",
       " [(0.1174238427106997, 'prsus'),\n",
       "  (0.04257698223517028, 'cty'),\n",
       "  (0.02517417375240743, 'grandfathered'),\n",
       "  (0.021736109706905645, 'pharma'),\n",
       "  (0.021736109706905645, 'purdue'),\n",
       "  (0.019052900776008463, 'acquiror'),\n",
       "  (0.01580752085137438, 'omni'),\n",
       "  (0.014986828281578239, 'comm'),\n",
       "  (0.013913023996073859, 'flipkart'),\n",
       "  (0.013098720024866272, 'super')],\n",
       " [(0.08939010808157122, 'prsus'),\n",
       "  (0.04961263314085963, 'cty'),\n",
       "  (0.02759023927534584, 'grandfathered'),\n",
       "  (0.023624197448516116, 'pharma'),\n",
       "  (0.023624197448516116, 'purdue'),\n",
       "  (0.016855226987448745, 'omni'),\n",
       "  (0.016139521728320047, 'acquiror'),\n",
       "  (0.0159588019431951, 'comm'),\n",
       "  (0.014773055734390732, 'flipkart'),\n",
       "  (0.01387173228376796, 'super')],\n",
       " [(0.07066368437379396, 'cty'),\n",
       "  (0.06262352268282854, 'prsus'),\n",
       "  (0.02759791865428974, 'purdue'),\n",
       "  (0.02759791865428974, 'pharma'),\n",
       "  (0.023697776854485073, 'grandfathered'),\n",
       "  (0.01778685512671339, 'omni'),\n",
       "  (0.017474725803806834, 'comm'),\n",
       "  (0.016744292121870858, 'flipkart'),\n",
       "  (0.015599494697028425, 'super'),\n",
       "  (0.014610933433611927, 'acquiror')]]"
      ]
     },
     "execution_count": 16,
     "metadata": {},
     "output_type": "execute_result"
    }
   ],
   "source": [
    "topic_list[1]"
   ]
  },
  {
   "cell_type": "code",
   "execution_count": 17,
   "metadata": {},
   "outputs": [],
   "source": [
    "import matplotlib.pyplot as plt\n",
    "%matplotlib inline"
   ]
  },
  {
   "cell_type": "code",
   "execution_count": 18,
   "metadata": {},
   "outputs": [
    {
     "data": {
      "image/png": "[encoded data removed]",
      "text/plain": [
       "<Figure size 432x288 with 1 Axes>"
      ]
     },
     "metadata": {
      "needs_background": "light"
     },
     "output_type": "display_data"
    },
    {
     "data": {
      "image/png": "[encoded data removed]",
      "text/plain": [
       "<Figure size 432x288 with 1 Axes>"
      ]
     },
     "metadata": {
      "needs_background": "light"
     },
     "output_type": "display_data"
    }
   ],
   "source": [
    "x = range(5)\n",
    "\n",
    "for index, topic in enumerate(topic_list):\n",
    "    plt.title(\"Topic \" + str(index))\n",
    "\n",
    "    for word in range(10):\n",
    "        prob = [sub[word] for sub in topic]\n",
    "        values = [probability[0] for probability in prob]\n",
    "        plt.plot(x, values, label = prob[0][1])\n",
    "        \n",
    "    plt.legend(loc='center left', bbox_to_anchor=(1, 0.5))\n",
    "    plt.show()"
   ]
  },
  {
   "cell_type": "code",
   "execution_count": null,
   "metadata": {},
   "outputs": [],
   "source": []
  }
 ],
 "metadata": {
  "kernelspec": {
   "display_name": "Python 3",
   "language": "python",
   "name": "python3"
  },
  "language_info": {
   "codemirror_mode": {
    "name": "ipython",
    "version": 3
   },
   "file_extension": ".py",
   "mimetype": "text/x-python",
   "name": "python",
   "nbconvert_exporter": "python",
   "pygments_lexer": "ipython3",
   "version": "3.6.8"
  }
 },
 "nbformat": 4,
 "nbformat_minor": 2
}
