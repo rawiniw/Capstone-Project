{
 "cells": [
  {
   "cell_type": "code",
   "execution_count": 1,
   "metadata": {},
   "outputs": [],
   "source": [
    "import os, gensim\n",
    "\n",
    "def iter_documents(top_directory):\n",
    "    \"\"\"Iterate over all documents, yielding a document (=list of utf8 tokens) at a time.\"\"\"\n",
    "    for root, dirs, files in os.walk(top_directory):\n",
    "        for file in filter(lambda file: file.endswith('.txt'), files):\n",
    "            document = open(os.path.join(root, file), encoding='utf8').read() # read the entire document, as one big string\n",
    "            yield gensim.utils.tokenize(document, lower=True) # or whatever tokenization suits you\n",
    "\n",
    "class MyCorpus(object):\n",
    "    def __init__(self, top_dir):\n",
    "        self.top_dir = top_dir\n",
    "        self.dictionary = gensim.corpora.Dictionary(iter_documents(top_dir))\n",
    "        self.dictionary.filter_extremes(no_below=1, keep_n=30000) # check API docs for pruning params\n",
    "\n",
    "    def __iter__(self):\n",
    "        for tokens in iter_documents(self.top_dir):\n",
    "            yield self.dictionary.doc2bow(tokens)\n",
    "\n",
    "corpus = MyCorpus('Annual_Text') # create a dictionary"
   ]
  },
  {
   "cell_type": "code",
   "execution_count": 6,
   "metadata": {},
   "outputs": [],
   "source": [
    "import logging\n",
    "import os\n",
    "from gensim import corpora, utils\n",
    "from gensim.models.wrappers.dtmmodel import DtmModel\n",
    "import numpy as np\n",
    "\n",
    "os.environ['DTM_PATH'] = r\"dtm-win64.exe\"\n",
    "\n",
    "if not os.environ.get('DTM_PATH', None):\n",
    "    raise ValueError(\"SKIP: You need to set the DTM path\")"
   ]
  },
  {
   "cell_type": "code",
   "execution_count": 7,
   "metadata": {},
   "outputs": [],
   "source": [
    "time_seq = [1, 1, 1, 1, 1]"
   ]
  },
  {
   "cell_type": "code",
   "execution_count": 8,
   "metadata": {},
   "outputs": [],
   "source": [
    "dtm_path = os.environ['DTM_PATH']"
   ]
  },
  {
   "cell_type": "code",
   "execution_count": 9,
   "metadata": {},
   "outputs": [],
   "source": [
    "num_topics = 2\n",
    "\n",
    "model = DtmModel(dtm_path, corpus, time_seq, num_topics=num_topics,\n",
    "                 id2word=corpus.dictionary, initialize_lda=True)"
   ]
  },
  {
   "cell_type": "code",
   "execution_count": 10,
   "metadata": {},
   "outputs": [],
   "source": [
    "topic_list = []\n",
    "\n",
    "for id in range(num_topics):\n",
    "    topic = [model.show_topic(topicid=id, time=time, topn=10) for time in range(5)]\n",
    "    topic_list.append(topic)"
   ]
  },
  {
   "cell_type": "code",
   "execution_count": 11,
   "metadata": {
    "scrolled": true
   },
   "outputs": [
    {
     "data": {
      "text/plain": [
       "[[(0.05617771518907585, 'prsus'),\n",
       "  (0.02433173522046941, 'acquiror'),\n",
       "  (0.018020962241859083, 'saye'),\n",
       "  (0.013250699341272024, 'monthly'),\n",
       "  (0.013078783826502568, 'nonm'),\n",
       "  (0.007497092407252151, 'holley'),\n",
       "  (0.007497092407252151, 'charles'),\n",
       "  (0.006107425659968693, 'mandatory'),\n",
       "  (0.005755314300634954, 'ceasing'),\n",
       "  (0.005755314300634954, 'itepa')],\n",
       " [(0.06856131334373233, 'prsus'),\n",
       "  (0.026129847414070366, 'acquiror'),\n",
       "  (0.01630051710278909, 'saye'),\n",
       "  (0.013512714525432984, 'nonm'),\n",
       "  (0.012584042450071727, 'monthly'),\n",
       "  (0.0071570559311314496, 'holley'),\n",
       "  (0.0071570559311314496, 'charles'),\n",
       "  (0.006160062756354308, 'mandatory'),\n",
       "  (0.005624066853809042, 'buttons'),\n",
       "  (0.005569521507814459, 'subtotals')],\n",
       " [(0.09412688695282834, 'prsus'),\n",
       "  (0.029611912556986853, 'acquiror'),\n",
       "  (0.015145229631866384, 'saye'),\n",
       "  (0.013211900730362972, 'nonm'),\n",
       "  (0.012155678925533537, 'monthly'),\n",
       "  (0.006814075601743239, 'holley'),\n",
       "  (0.006814075601743239, 'charles'),\n",
       "  (0.0059687941573283755, 'mandatory'),\n",
       "  (0.005377549935205031, 'buttons'),\n",
       "  (0.005326169051402559, 'subtotals')],\n",
       " [(0.0967009903181896, 'prsus'),\n",
       "  (0.029546074406702042, 'acquiror'),\n",
       "  (0.01510693288316092, 'saye'),\n",
       "  (0.013174482007312428, 'nonm'),\n",
       "  (0.01212374751604077, 'monthly'),\n",
       "  (0.006794711276667357, 'holley'),\n",
       "  (0.006794711276667357, 'charles'),\n",
       "  (0.005951431017008824, 'mandatory'),\n",
       "  (0.005361846160297479, 'buttons'),\n",
       "  (0.00531066745221896, 'subtotals')],\n",
       " [(0.09509244626138524, 'prsus'),\n",
       "  (0.029599221879124706, 'acquiror'),\n",
       "  (0.015135689201044503, 'saye'),\n",
       "  (0.013198996394021018, 'nonm'),\n",
       "  (0.012145319409682205, 'monthly'),\n",
       "  (0.006807463794370848, 'holley'),\n",
       "  (0.006807463794370848, 'charles'),\n",
       "  (0.005962052860332493, 'mandatory'),\n",
       "  (0.005371721736412768, 'buttons'),\n",
       "  (0.0053202561518699235, 'subtotals')]]"
      ]
     },
     "execution_count": 11,
     "metadata": {},
     "output_type": "execute_result"
    }
   ],
   "source": [
    "topic_list[0]"
   ]
  },
  {
   "cell_type": "code",
   "execution_count": 12,
   "metadata": {
    "scrolled": true
   },
   "outputs": [
    {
     "data": {
      "text/plain": [
       "[[(0.055903155581882386, 'cty'),\n",
       "  (0.05499817218639537, 'prsus'),\n",
       "  (0.03236437172252227, 'grandfathered'),\n",
       "  (0.02694626840943011, 'purdue'),\n",
       "  (0.02694626840943011, 'pharma'),\n",
       "  (0.02055566043154327, 'omnichannel'),\n",
       "  (0.017295411631878577, 'sc'),\n",
       "  (0.015861968553994125, 'flipkart'),\n",
       "  (0.015861968553994125, 'super'),\n",
       "  (0.012745688921040731, 'cir')],\n",
       " [(0.05614318886064213, 'cty'),\n",
       "  (0.05514082597277262, 'prsus'),\n",
       "  (0.032447586934601896, 'grandfathered'),\n",
       "  (0.027036176124617617, 'purdue'),\n",
       "  (0.027036176124617617, 'pharma'),\n",
       "  (0.020596746195146766, 'omnichannel'),\n",
       "  (0.017331226976826198, 'sc'),\n",
       "  (0.01589582315130027, 'flipkart'),\n",
       "  (0.01589582315130027, 'super'),\n",
       "  (0.012766203896676006, 'cir')],\n",
       " [(0.056295319239196104, 'cty'),\n",
       "  (0.05539663759035689, 'prsus'),\n",
       "  (0.03263495749644182, 'grandfathered'),\n",
       "  (0.02709922154464195, 'purdue'),\n",
       "  (0.02709922154464195, 'pharma'),\n",
       "  (0.02062921912489645, 'omnichannel'),\n",
       "  (0.017359801162829737, 'sc'),\n",
       "  (0.01591575812262827, 'flipkart'),\n",
       "  (0.01591575812262827, 'super'),\n",
       "  (0.012783795410797563, 'cir')],\n",
       " [(0.056607361021388684, 'cty'),\n",
       "  (0.05557685237490621, 'prsus'),\n",
       "  (0.03263207546511044, 'grandfathered'),\n",
       "  (0.027230839597157698, 'purdue'),\n",
       "  (0.027230839597157698, 'pharma'),\n",
       "  (0.020686391533805606, 'omnichannel'),\n",
       "  (0.01739802709460902, 'sc'),\n",
       "  (0.0159614919942594, 'flipkart'),\n",
       "  (0.0159614919942594, 'super'),\n",
       "  (0.012803252895854763, 'cir')],\n",
       " [(0.07538939473591193, 'cty'),\n",
       "  (0.041414820000449534, 'prsus'),\n",
       "  (0.030493866294485077, 'purdue'),\n",
       "  (0.030493866294485077, 'pharma'),\n",
       "  (0.026869230049634873, 'grandfathered'),\n",
       "  (0.021029108994429547, 'omnichannel'),\n",
       "  (0.01895960015383423, 'sc'),\n",
       "  (0.017395518506909614, 'flipkart'),\n",
       "  (0.017395518506909614, 'super'),\n",
       "  (0.01368457582243661, 'cir')]]"
      ]
     },
     "execution_count": 12,
     "metadata": {},
     "output_type": "execute_result"
    }
   ],
   "source": [
    "topic_list[1]"
   ]
  },
  {
   "cell_type": "code",
   "execution_count": 13,
   "metadata": {},
   "outputs": [],
   "source": [
    "import matplotlib.pyplot as plt\n",
    "%matplotlib inline"
   ]
  },
  {
   "cell_type": "code",
   "execution_count": 14,
   "metadata": {},
   "outputs": [
    {
     "data": {
      "image/png": "[encoded data removed]",
      "text/plain": [
       "<Figure size 432x288 with 1 Axes>"
      ]
     },
     "metadata": {
      "needs_background": "light"
     },
     "output_type": "display_data"
    },
    {
     "data": {
      "image/png": "[encoded data removed]",
      "text/plain": [
       "<Figure size 432x288 with 1 Axes>"
      ]
     },
     "metadata": {
      "needs_background": "light"
     },
     "output_type": "display_data"
    }
   ],
   "source": [
    "x = range(5)\n",
    "\n",
    "for index, topic in enumerate(topic_list):\n",
    "    plt.title(\"Topic \" + str(index))\n",
    "\n",
    "    for word in range(10):\n",
    "        prob = [sub[word] for sub in topic]\n",
    "        values = [probability[0] for probability in prob]\n",
    "        plt.plot(x, values, label = prob[0][1])\n",
    "        \n",
    "    plt.legend(loc='center left', bbox_to_anchor=(1, 0.5))\n",
    "    plt.show()"
   ]
  },
  {
   "cell_type": "code",
   "execution_count": null,
   "metadata": {},
   "outputs": [],
   "source": []
  }
 ],
 "metadata": {
  "kernelspec": {
   "display_name": "Python 3",
   "language": "python",
   "name": "python3"
  },
  "language_info": {
   "codemirror_mode": {
    "name": "ipython",
    "version": 3
   },
   "file_extension": ".py",
   "mimetype": "text/x-python",
   "name": "python",
   "nbconvert_exporter": "python",
   "pygments_lexer": "ipython3",
   "version": "3.7.1"
  }
 },
 "nbformat": 4,
 "nbformat_minor": 2
}
