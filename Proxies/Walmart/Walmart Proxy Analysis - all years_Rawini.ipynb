{
 "cells": [
  {
   "cell_type": "code",
   "execution_count": 2,
   "metadata": {},
   "outputs": [
    {
     "name": "stderr",
     "output_type": "stream",
     "text": [
      "[nltk_data] Downloading package averaged_perceptron_tagger to\n",
      "[nltk_data]     C:\\Users\\rawin\\AppData\\Roaming\\nltk_data...\n",
      "[nltk_data]   Package averaged_perceptron_tagger is already up-to-\n",
      "[nltk_data]       date!\n",
      "[nltk_data] Downloading package averaged_perceptron_tagger to\n",
      "[nltk_data]     C:\\Users\\rawin\\AppData\\Roaming\\nltk_data...\n",
      "[nltk_data]   Package averaged_perceptron_tagger is already up-to-\n",
      "[nltk_data]       date!\n"
     ]
    }
   ],
   "source": [
    "import PyPDF2\n",
    "import pandas as pd\n",
    "import numpy as np\n",
    "import matplotlib.pyplot as plt\n",
    "\n",
    "import nltk\n",
    "from nltk.tokenize import word_tokenize\n",
    "from nltk.corpus import wordnet\n",
    "from nltk.stem.wordnet import WordNetLemmatizer\n",
    "from nltk.corpus import stopwords\n",
    "nltk.download('averaged_perceptron_tagger')\n",
    "from transcript_functions import *\n",
    "\n",
    "from sklearn.feature_extraction.text import CountVectorizer\n",
    "from sklearn.decomposition import LatentDirichletAllocation as LDA"
   ]
  },
  {
   "cell_type": "markdown",
   "metadata": {},
   "source": [
    "Reading in proxy statements for Walmart from 2010 through 2019, reading each page of each PDF document as a separate row in the dataframe."
   ]
  },
  {
   "cell_type": "code",
   "execution_count": 3,
   "metadata": {},
   "outputs": [
    {
     "name": "stderr",
     "output_type": "stream",
     "text": [
      "PdfReadWarning: Xref table not zero-indexed. ID numbers for objects will be corrected. [pdf.py:1736]\n"
     ]
    }
   ],
   "source": [
    "df = pd.DataFrame(columns = ['raw_text','year'])\n",
    "\n",
    "for k in range(10,20):\n",
    "\n",
    "    pdfReader = PyPDF2.PdfFileReader(\"C:/Users/rawin/Documents/GitHub/Capstone-Project/Proxies/20%s_proxy.pdf\"%(k))\n",
    "    \n",
    "    year = \"20%s\"%(k)\n",
    "    \n",
    "    NumPages = pdfReader.getNumPages()\n",
    "    \n",
    "    sub_df = pd.DataFrame(columns = ['raw_text','year'])\n",
    "    for i in range(1, NumPages):\n",
    "        pageObj = pdfReader.getPage(i)\n",
    "        page = pageObj.extractText()\n",
    "        page = page.replace('\\n \\n',', ')\n",
    "        page = page.replace('\\n','')\n",
    "        page = page.replace('\\d+', '')\n",
    "        sub_df = sub_df.append({'raw_text':page,'year':year},ignore_index=True)\n",
    "        \n",
    "    df = pd.concat([df,sub_df],ignore_index=True)"
   ]
  },
  {
   "cell_type": "code",
   "execution_count": 4,
   "metadata": {},
   "outputs": [
    {
     "data": {
      "text/plain": [
       "(966, 2)"
      ]
     },
     "execution_count": 4,
     "metadata": {},
     "output_type": "execute_result"
    }
   ],
   "source": [
    "df.shape"
   ]
  },
  {
   "cell_type": "code",
   "execution_count": 6,
   "metadata": {},
   "outputs": [],
   "source": [
    "#tokenize\n",
    "df[\"tokens\"] = df[\"raw_text\"].map(nltk.word_tokenize)\n",
    "\n",
    "#make lowercase\n",
    "df[\"tokens_clean\"] = df[\"tokens\"].map(lambda x: [word.lower() for word in x])\n",
    "\n",
    "#remove stopwords\n",
    "stop_words = set(stopwords.words('english'))\n",
    "df[\"tokens_clean\"] = df[\"tokens_clean\"].map(lambda x: [word for word in x if word not in stop_words])"
   ]
  },
  {
   "cell_type": "code",
   "execution_count": 7,
   "metadata": {},
   "outputs": [],
   "source": [
    "# tag Part of Speech\n",
    "df[\"tokens_pos\"] = df[\"tokens_clean\"].map(nltk.pos_tag)\n",
    "# filter words with pos not in pos_keep\n",
    "pos_keep = [\"NN\", \"NNS\",\"VB\", \"VBD\", \"VBN\", \"VBP\", \"VBZ\"] #take out \"JJ\", \"JJR\", \"JJS\"\n",
    "df[\"tokens_pos\"] = df[\"tokens_pos\"].map(lambda x: [tup for tup in x if tup[1] in pos_keep])\n",
    "\n",
    "# lemmatize with POS\n",
    "lemmatizer = WordNetLemmatizer()\n",
    "df[\"tokens_pos\"] = df[\"tokens_pos\"].map(lambda x: [lemmatizer.lemmatize(tup[0], get_wordnet_pos(tup[1])) for tup in x ])\n",
    "\n",
    "df[\"corpus\"] = df[\"tokens_pos\"].map(lambda x: ' '.join(x))\n",
    "\n",
    "#remove numbers\n",
    "df['corpus'] = df['corpus'].str.replace('\\d+', '')\n",
    "\n",
    "#tokenize\n",
    "df[\"tokens_final\"] = df[\"corpus\"].map(nltk.word_tokenize)\n",
    "\n",
    "#remove punctuation\n",
    "punctuation = ['(',')',';',':','[',']',',','.',\"''\",'$','%','``',\"’\",\".//\",\"”\"]\n",
    "df[\"tokens_final\"] = df[\"tokens_final\"].map(lambda x: [word for word in x if word not in punctuation])"
   ]
  },
  {
   "cell_type": "code",
   "execution_count": 8,
   "metadata": {},
   "outputs": [],
   "source": [
    "remove_words =['shareholders™','walmart','board','mr.','director','walton','committee','proxy','meeting','share','vote','shareholder','stock','plan']\n",
    "\n",
    "df[\"tokens_final\"] = df[\"tokens_final\"].map(lambda x: [word for word in x if word.lower() not in remove_words])"
   ]
  },
  {
   "cell_type": "code",
   "execution_count": 9,
   "metadata": {},
   "outputs": [],
   "source": [
    "import gensim\n",
    "from gensim.utils import simple_preprocess\n",
    "from gensim.test.utils import common_corpus, common_dictionary\n",
    "\n",
    "import pprint\n",
    "pp = pprint.PrettyPrinter(indent=4)"
   ]
  },
  {
   "cell_type": "code",
   "execution_count": 10,
   "metadata": {},
   "outputs": [],
   "source": [
    "dictionary = gensim.corpora.Dictionary(df[\"tokens_final\"])\n",
    "\n",
    "dictionary.filter_extremes(no_below=1, no_above=0.5) #, keep_n=100000)\n",
    "\n",
    "bow_corpus = [dictionary.doc2bow(word) for word in df[\"tokens_final\"]]\n",
    "\n",
    "lda_model = gensim.models.LdaMulticore(bow_corpus, num_topics=15, id2word=dictionary, \n",
    "                                       passes=2, workers=2, chunksize=100, random_state=1000)"
   ]
  },
  {
   "cell_type": "code",
   "execution_count": 11,
   "metadata": {},
   "outputs": [
    {
     "name": "stdout",
     "output_type": "stream",
     "text": [
      "[   (   0,\n",
      "        '0.029*\"hold\" + 0.018*\"include\" + 0.016*\"c.\" + 0.016*\"amount\" + '\n",
      "        '0.015*\"officer\" + 0.015*\"defer\" + 0.014*\"trust\" + 0.012*\"executive\" + '\n",
      "        '0.012*\"power\" + 0.011*\"robson\"'),\n",
      "    (   1,\n",
      "        '0.012*\"performance\" + 0.008*\"management\" + 0.006*\"jr.\" + 0.005*\"cash\" '\n",
      "        '+ 0.005*\"member\" + 0.004*\"ecommerce\" + 0.004*\"list\" + 0.004*\"rule\" + '\n",
      "        '0.004*\"transfer\" + 0.004*\"skill\"'),\n",
      "    (   2,\n",
      "        '0.051*\"risk\" + 0.035*\"management\" + 0.014*\"ecommerce\" + '\n",
      "        '0.011*\"compensation\" + 0.010*\"information\" + 0.010*\"process\" + '\n",
      "        '0.010*\"oversight\" + 0.009*\"role\" + 0.008*\"innovation\" + '\n",
      "        '0.008*\"technology\"'),\n",
      "    (   3,\n",
      "        '0.027*\"member\" + 0.018*\"serve\" + 0.016*\"experience\" + '\n",
      "        '0.016*\"management\" + 0.015*\"service\" + 0.015*\"audit\" + '\n",
      "        '0.014*\"chairman\" + 0.014*\"leadership\" + 0.013*\"business\" + '\n",
      "        '0.011*\"governance\"'),\n",
      "    (   4,\n",
      "        '0.025*\"proposal\" + 0.023*\"statement\" + 0.015*\"governance\" + '\n",
      "        '0.013*\"matter\" + 0.013*\"record\" + 0.012*\"election\" + 0.011*\"nominee\" '\n",
      "        '+ 0.011*\"person\" + 0.010*\"holder\" + 0.009*\"name\"'),\n",
      "    (   5,\n",
      "        '0.043*\"compensation\" + 0.022*\"cash\" + 0.019*\"year\" + 0.016*\"sale\" + '\n",
      "        '0.015*\"performance\" + 0.014*\"incentive\" + 0.013*\"target\" + '\n",
      "        '0.013*\"base\" + 0.012*\"program\" + 0.012*\"group\"'),\n",
      "    (   6,\n",
      "        '0.036*\"compensation\" + 0.020*\"performance\" + 0.019*\"amount\" + '\n",
      "        '0.019*\"column\" + 0.016*\"defer\" + 0.016*\"date\" + 0.015*\"year\" + '\n",
      "        '0.014*\"day\" + 0.011*\"recipient\" + 0.011*\"value\"'),\n",
      "    (   7,\n",
      "        '0.031*\"compensation\" + 0.026*\"sale\" + 0.026*\"calculate\" + '\n",
      "        '0.024*\"currency\" + 0.023*\"measure\" + 0.019*\"exchange\" + 0.015*\"rule\" '\n",
      "        '+ 0.014*\"income\" + 0.012*\"fuel\" + 0.012*\"million\"'),\n",
      "    (   8,\n",
      "        '0.012*\"lot\" + 0.010*\"time\" + 0.010*\"use\" + 0.009*\"center\" + '\n",
      "        '0.008*\"statement\" + 0.007*\"arkansas\" + 0.007*\"parking\" + '\n",
      "        '0.007*\"airport\" + 0.006*\"receive\" + 0.006*\"arena\"'),\n",
      "    (   9,\n",
      "        '0.026*\"audit\" + 0.019*\"unit\" + 0.014*\"company™s\" + 0.014*\"compliance\" '\n",
      "        '+ 0.013*\"vest\" + 0.013*\"fee\" + 0.012*\"compensation\" + '\n",
      "        '0.010*\"restrict\" + 0.009*\"accountant\" + 0.009*\"include\"'),\n",
      "    (   10,\n",
      "        '0.011*\"elect\" + 0.010*\"majority\" + 0.009*\"election\" + '\n",
      "        '0.009*\"resignation\" + 0.007*\"compensation\" + 0.007*\"represent\" + '\n",
      "        '0.006*\"cast\" + 0.006*\"person\" + 0.006*\"mcmillon\" + '\n",
      "        '0.006*\"broadridge\"'),\n",
      "    (   11,\n",
      "        '0.021*\"pension\" + 0.016*\"asda\" + 0.015*\"column\" + 0.011*\"provide\" + '\n",
      "        '0.011*\"defer\" + 0.011*\"benefit\" + 0.011*\"scheme\" + '\n",
      "        '0.011*\"compensation\" + 0.011*\"value\" + 0.010*\"amount\"'),\n",
      "    (   12,\n",
      "        '0.013*\"award\" + 0.011*\"receive\" + 0.011*\"transaction\" + '\n",
      "        '0.010*\"payment\" + 0.010*\"relationship\" + 0.010*\"amount\" + '\n",
      "        '0.010*\"year\" + 0.010*\"pay\" + 0.009*\"associate\" + '\n",
      "        '0.009*\"compensation\"'),\n",
      "    (   13,\n",
      "        '0.050*\"performance\" + 0.034*\"compensation\" + 0.026*\"goal\" + '\n",
      "        '0.022*\"incentive\" + 0.014*\"base\" + 0.014*\"grant\" + 0.014*\"executive\" '\n",
      "        '+ 0.014*\"award\" + 0.013*\"target\" + 0.013*\"program\"'),\n",
      "    (   14,\n",
      "        '0.033*\"material\" + 0.024*\"receive\" + 0.021*\"instruction\" + '\n",
      "        '0.019*\"statement\" + 0.017*\"hold\" + 0.016*\"audit\" + '\n",
      "        '0.013*\"availability\" + 0.013*\"card\" + 0.012*\"broker\" + '\n",
      "        '0.012*\"nominee\"')]\n"
     ]
    }
   ],
   "source": [
    "pp.pprint(lda_model.print_topics())"
   ]
  },
  {
   "cell_type": "code",
   "execution_count": 69,
   "metadata": {},
   "outputs": [],
   "source": [
    "import pyLDAvis\n",
    "import pyLDAvis.gensim\n",
    "pyLDAvis.enable_notebook()\n",
    "vis = pyLDAvis.gensim.prepare(lda_model, bow_corpus, dictionary)"
   ]
  },
  {
   "cell_type": "code",
   "execution_count": 92,
   "metadata": {},
   "outputs": [],
   "source": [
    "# pyLDAvis.show(vis)"
   ]
  },
  {
   "cell_type": "code",
   "execution_count": 14,
   "metadata": {},
   "outputs": [
    {
     "data": {
      "text/plain": [
       "Index(['raw_text', 'year', 'tokens', 'tokens_clean', 'tokens_pos', 'corpus',\n",
       "       'tokens_final'],\n",
       "      dtype='object')"
      ]
     },
     "execution_count": 14,
     "metadata": {},
     "output_type": "execute_result"
    }
   ],
   "source": [
    "df.columns"
   ]
  },
  {
   "cell_type": "markdown",
   "metadata": {},
   "source": [
    "## Finding the dominant topic in each page"
   ]
  },
  {
   "cell_type": "code",
   "execution_count": 15,
   "metadata": {},
   "outputs": [
    {
     "data": {
      "text/html": [
       "<div>\n",
       "<style scoped>\n",
       "    .dataframe tbody tr th:only-of-type {\n",
       "        vertical-align: middle;\n",
       "    }\n",
       "\n",
       "    .dataframe tbody tr th {\n",
       "        vertical-align: top;\n",
       "    }\n",
       "\n",
       "    .dataframe thead th {\n",
       "        text-align: right;\n",
       "    }\n",
       "</style>\n",
       "<table border=\"1\" class=\"dataframe\">\n",
       "  <thead>\n",
       "    <tr style=\"text-align: right;\">\n",
       "      <th></th>\n",
       "      <th>year</th>\n",
       "      <th>tokens_final</th>\n",
       "      <th>topic</th>\n",
       "      <th>perc_contribution</th>\n",
       "      <th>topic_keywords</th>\n",
       "    </tr>\n",
       "  </thead>\n",
       "  <tbody>\n",
       "    <tr>\n",
       "      <th>956</th>\n",
       "      <td>2019</td>\n",
       "      <td>[information, receive, notice, notification, a...</td>\n",
       "      <td>14.0</td>\n",
       "      <td>0.9862</td>\n",
       "      <td>material, receive, instruction, statement, hol...</td>\n",
       "    </tr>\n",
       "    <tr>\n",
       "      <th>957</th>\n",
       "      <td>2019</td>\n",
       "      <td>[information, submission, inclusion, material,...</td>\n",
       "      <td>6.0</td>\n",
       "      <td>0.5339</td>\n",
       "      <td>compensation, performance, amount, column, def...</td>\n",
       "    </tr>\n",
       "    <tr>\n",
       "      <th>958</th>\n",
       "      <td>2019</td>\n",
       "      <td>[abbreviationsthe, abbreviation, use, cer˜ain,...</td>\n",
       "      <td>7.0</td>\n",
       "      <td>0.8901</td>\n",
       "      <td>compensation, sale, calculate, currency, measu...</td>\n",
       "    </tr>\n",
       "    <tr>\n",
       "      <th>959</th>\n",
       "      <td>2019</td>\n",
       "      <td>[abbreviation, list, company, rulesthe, nyse™s...</td>\n",
       "      <td>7.0</td>\n",
       "      <td>0.8479</td>\n",
       "      <td>compensation, sale, calculate, currency, measu...</td>\n",
       "    </tr>\n",
       "    <tr>\n",
       "      <th>960</th>\n",
       "      <td>2019</td>\n",
       "      <td>[measurescer˜ain, measure, discuss, caption, h...</td>\n",
       "      <td>7.0</td>\n",
       "      <td>0.8702</td>\n",
       "      <td>compensation, sale, calculate, currency, measu...</td>\n",
       "    </tr>\n",
       "    <tr>\n",
       "      <th>961</th>\n",
       "      <td>2019</td>\n",
       "      <td>[a-annex, reconciliation, reconciliation, comp...</td>\n",
       "      <td>7.0</td>\n",
       "      <td>0.9245</td>\n",
       "      <td>compensation, sale, calculate, currency, measu...</td>\n",
       "    </tr>\n",
       "    <tr>\n",
       "      <th>962</th>\n",
       "      <td>2019</td>\n",
       "      <td>[measuresthe, company, use, per˚ormance, metri...</td>\n",
       "      <td>7.0</td>\n",
       "      <td>0.9953</td>\n",
       "      <td>compensation, sale, calculate, currency, measu...</td>\n",
       "    </tr>\n",
       "    <tr>\n",
       "      <th>963</th>\n",
       "      <td>2019</td>\n",
       "      <td>[a-annex, calculate, adjust, income, interest,...</td>\n",
       "      <td>7.0</td>\n",
       "      <td>0.5717</td>\n",
       "      <td>compensation, sale, calculate, currency, measu...</td>\n",
       "    </tr>\n",
       "    <tr>\n",
       "      <th>964</th>\n",
       "      <td>2019</td>\n",
       "      <td>[direction, associate/shareholder, meetingplac...</td>\n",
       "      <td>8.0</td>\n",
       "      <td>0.8796</td>\n",
       "      <td>lot, time, use, center, statement, arkansas, p...</td>\n",
       "    </tr>\n",
       "    <tr>\n",
       "      <th>965</th>\n",
       "      <td>2019</td>\n",
       "      <td>[]</td>\n",
       "      <td>0.0</td>\n",
       "      <td>0.0667</td>\n",
       "      <td>hold, include, c., amount, officer, defer, tru...</td>\n",
       "    </tr>\n",
       "  </tbody>\n",
       "</table>\n",
       "</div>"
      ],
      "text/plain": [
       "     year                                       tokens_final  topic  \\\n",
       "956  2019  [information, receive, notice, notification, a...   14.0   \n",
       "957  2019  [information, submission, inclusion, material,...    6.0   \n",
       "958  2019  [abbreviationsthe, abbreviation, use, cer˜ain,...    7.0   \n",
       "959  2019  [abbreviation, list, company, rulesthe, nyse™s...    7.0   \n",
       "960  2019  [measurescer˜ain, measure, discuss, caption, h...    7.0   \n",
       "961  2019  [a-annex, reconciliation, reconciliation, comp...    7.0   \n",
       "962  2019  [measuresthe, company, use, per˚ormance, metri...    7.0   \n",
       "963  2019  [a-annex, calculate, adjust, income, interest,...    7.0   \n",
       "964  2019  [direction, associate/shareholder, meetingplac...    8.0   \n",
       "965  2019                                                 []    0.0   \n",
       "\n",
       "     perc_contribution                                     topic_keywords  \n",
       "956             0.9862  material, receive, instruction, statement, hol...  \n",
       "957             0.5339  compensation, performance, amount, column, def...  \n",
       "958             0.8901  compensation, sale, calculate, currency, measu...  \n",
       "959             0.8479  compensation, sale, calculate, currency, measu...  \n",
       "960             0.8702  compensation, sale, calculate, currency, measu...  \n",
       "961             0.9245  compensation, sale, calculate, currency, measu...  \n",
       "962             0.9953  compensation, sale, calculate, currency, measu...  \n",
       "963             0.5717  compensation, sale, calculate, currency, measu...  \n",
       "964             0.8796  lot, time, use, center, statement, arkansas, p...  \n",
       "965             0.0667  hold, include, c., amount, officer, defer, tru...  "
      ]
     },
     "execution_count": 15,
     "metadata": {},
     "output_type": "execute_result"
    }
   ],
   "source": [
    "def format_topics_pages(ldamodel=lda_model, corpus=bow_corpus, texts=df[['year','tokens_final']]):\n",
    "    # Init output\n",
    "    page_topics_df = pd.DataFrame()\n",
    "\n",
    "    # Get main topic in each document\n",
    "    for i, row in enumerate(ldamodel[corpus]):\n",
    "        row = sorted(row, key=lambda x: (x[1]), reverse=True)\n",
    "        # Get the Dominant topic, Perc Contribution and Keywords for each document\n",
    "        for j, (topic_num, prop_topic) in enumerate(row):\n",
    "            if j == 0:  # => dominant topic\n",
    "                wp = ldamodel.show_topic(topic_num)\n",
    "                topic_keywords = \", \".join([word for word, prop in wp])\n",
    "                page_topics_df = page_topics_df.append(pd.Series([int(topic_num), round(prop_topic,4), topic_keywords]), ignore_index=True)\n",
    "            else:\n",
    "                break\n",
    "    page_topics_df.columns = ['topic', 'perc_contribution', 'topic_keywords']\n",
    "\n",
    "    # Add original text to the end of the output\n",
    "    page_topics_df = pd.concat([texts,page_topics_df], axis=1)\n",
    "    return(page_topics_df)\n",
    "\n",
    "\n",
    "df_topic_pages_keywords = format_topics_pages(ldamodel=lda_model, corpus=bow_corpus, texts=df[['year','tokens_final']])\n",
    "\n",
    "# Format\n",
    "df_dominant_topic = df_topic_pages_keywords.reset_index()\n",
    "df_dominant_topic = df_dominant_topic.drop('index',axis=1)\n",
    "\n",
    "# Show\n",
    "df_dominant_topic.tail(10)"
   ]
  },
  {
   "cell_type": "code",
   "execution_count": 16,
   "metadata": {},
   "outputs": [
    {
     "data": {
      "text/plain": [
       "(966, 5)"
      ]
     },
     "execution_count": 16,
     "metadata": {},
     "output_type": "execute_result"
    }
   ],
   "source": [
    "df_dominant_topic.shape"
   ]
  },
  {
   "cell_type": "code",
   "execution_count": 17,
   "metadata": {},
   "outputs": [
    {
     "data": {
      "text/plain": [
       "<matplotlib.axes._subplots.AxesSubplot at 0x248da6e3f48>"
      ]
     },
     "execution_count": 17,
     "metadata": {},
     "output_type": "execute_result"
    },
    {
     "data": {
      "image/png": "[encoded data removed]",
      "text/plain": [
       "<Figure size 720x360 with 1 Axes>"
      ]
     },
     "metadata": {
      "needs_background": "light"
     },
     "output_type": "display_data"
    }
   ],
   "source": [
    "topic_counts = df_dominant_topic[\"topic\"].value_counts()\n",
    "(topic_counts/topic_counts.sum()).plot(x=\"Topics\", y=\"Percentage\",\n",
    "                                       title=\"Topic Distribution\",\n",
    "                                       kind=\"bar\", figsize=(10,5))"
   ]
  },
  {
   "cell_type": "markdown",
   "metadata": {},
   "source": [
    "## Topic Trends"
   ]
  },
  {
   "cell_type": "code",
   "execution_count": 56,
   "metadata": {},
   "outputs": [],
   "source": [
    "df_trend = pd.crosstab(df_dominant_topic[\"year\"], df_dominant_topic[\"topic\"], normalize=\"index\")\n",
    "years = [str(x) for x in df_trend.index]"
   ]
  },
  {
   "cell_type": "code",
   "execution_count": 57,
   "metadata": {},
   "outputs": [
    {
     "data": {
      "text/html": [
       "<div>\n",
       "<style scoped>\n",
       "    .dataframe tbody tr th:only-of-type {\n",
       "        vertical-align: middle;\n",
       "    }\n",
       "\n",
       "    .dataframe tbody tr th {\n",
       "        vertical-align: top;\n",
       "    }\n",
       "\n",
       "    .dataframe thead th {\n",
       "        text-align: right;\n",
       "    }\n",
       "</style>\n",
       "<table border=\"1\" class=\"dataframe\">\n",
       "  <thead>\n",
       "    <tr style=\"text-align: right;\">\n",
       "      <th>topic</th>\n",
       "      <th>0.0</th>\n",
       "      <th>1.0</th>\n",
       "      <th>2.0</th>\n",
       "      <th>3.0</th>\n",
       "      <th>4.0</th>\n",
       "      <th>5.0</th>\n",
       "      <th>6.0</th>\n",
       "      <th>7.0</th>\n",
       "      <th>8.0</th>\n",
       "      <th>9.0</th>\n",
       "      <th>10.0</th>\n",
       "      <th>11.0</th>\n",
       "      <th>12.0</th>\n",
       "      <th>13.0</th>\n",
       "      <th>14.0</th>\n",
       "    </tr>\n",
       "    <tr>\n",
       "      <th>year</th>\n",
       "      <th></th>\n",
       "      <th></th>\n",
       "      <th></th>\n",
       "      <th></th>\n",
       "      <th></th>\n",
       "      <th></th>\n",
       "      <th></th>\n",
       "      <th></th>\n",
       "      <th></th>\n",
       "      <th></th>\n",
       "      <th></th>\n",
       "      <th></th>\n",
       "      <th></th>\n",
       "      <th></th>\n",
       "      <th></th>\n",
       "    </tr>\n",
       "  </thead>\n",
       "  <tbody>\n",
       "    <tr>\n",
       "      <th>2010</th>\n",
       "      <td>0.031579</td>\n",
       "      <td>0.126316</td>\n",
       "      <td>0.084211</td>\n",
       "      <td>0.084211</td>\n",
       "      <td>0.063158</td>\n",
       "      <td>0.063158</td>\n",
       "      <td>0.042105</td>\n",
       "      <td>0.094737</td>\n",
       "      <td>0.052632</td>\n",
       "      <td>0.031579</td>\n",
       "      <td>0.073684</td>\n",
       "      <td>0.084211</td>\n",
       "      <td>0.073684</td>\n",
       "      <td>0.021053</td>\n",
       "      <td>0.073684</td>\n",
       "    </tr>\n",
       "    <tr>\n",
       "      <th>2011</th>\n",
       "      <td>0.031250</td>\n",
       "      <td>0.203125</td>\n",
       "      <td>0.093750</td>\n",
       "      <td>0.015625</td>\n",
       "      <td>0.078125</td>\n",
       "      <td>0.078125</td>\n",
       "      <td>0.015625</td>\n",
       "      <td>0.078125</td>\n",
       "      <td>0.062500</td>\n",
       "      <td>0.031250</td>\n",
       "      <td>0.062500</td>\n",
       "      <td>0.078125</td>\n",
       "      <td>0.093750</td>\n",
       "      <td>0.015625</td>\n",
       "      <td>0.062500</td>\n",
       "    </tr>\n",
       "    <tr>\n",
       "      <th>2012</th>\n",
       "      <td>0.059701</td>\n",
       "      <td>0.119403</td>\n",
       "      <td>0.074627</td>\n",
       "      <td>0.059701</td>\n",
       "      <td>0.074627</td>\n",
       "      <td>0.104478</td>\n",
       "      <td>0.059701</td>\n",
       "      <td>0.059701</td>\n",
       "      <td>0.104478</td>\n",
       "      <td>0.029851</td>\n",
       "      <td>0.044776</td>\n",
       "      <td>0.044776</td>\n",
       "      <td>0.134328</td>\n",
       "      <td>0.000000</td>\n",
       "      <td>0.029851</td>\n",
       "    </tr>\n",
       "    <tr>\n",
       "      <th>2013</th>\n",
       "      <td>0.037975</td>\n",
       "      <td>0.025316</td>\n",
       "      <td>0.000000</td>\n",
       "      <td>0.227848</td>\n",
       "      <td>0.126582</td>\n",
       "      <td>0.088608</td>\n",
       "      <td>0.050633</td>\n",
       "      <td>0.012658</td>\n",
       "      <td>0.012658</td>\n",
       "      <td>0.075949</td>\n",
       "      <td>0.000000</td>\n",
       "      <td>0.012658</td>\n",
       "      <td>0.113924</td>\n",
       "      <td>0.177215</td>\n",
       "      <td>0.037975</td>\n",
       "    </tr>\n",
       "    <tr>\n",
       "      <th>2014</th>\n",
       "      <td>0.073684</td>\n",
       "      <td>0.010526</td>\n",
       "      <td>0.031579</td>\n",
       "      <td>0.178947</td>\n",
       "      <td>0.105263</td>\n",
       "      <td>0.084211</td>\n",
       "      <td>0.073684</td>\n",
       "      <td>0.052632</td>\n",
       "      <td>0.010526</td>\n",
       "      <td>0.084211</td>\n",
       "      <td>0.000000</td>\n",
       "      <td>0.010526</td>\n",
       "      <td>0.042105</td>\n",
       "      <td>0.168421</td>\n",
       "      <td>0.073684</td>\n",
       "    </tr>\n",
       "    <tr>\n",
       "      <th>2015</th>\n",
       "      <td>0.048780</td>\n",
       "      <td>0.008130</td>\n",
       "      <td>0.024390</td>\n",
       "      <td>0.178862</td>\n",
       "      <td>0.081301</td>\n",
       "      <td>0.073171</td>\n",
       "      <td>0.073171</td>\n",
       "      <td>0.032520</td>\n",
       "      <td>0.008130</td>\n",
       "      <td>0.048780</td>\n",
       "      <td>0.008130</td>\n",
       "      <td>0.016260</td>\n",
       "      <td>0.203252</td>\n",
       "      <td>0.138211</td>\n",
       "      <td>0.056911</td>\n",
       "    </tr>\n",
       "    <tr>\n",
       "      <th>2016</th>\n",
       "      <td>0.054054</td>\n",
       "      <td>0.000000</td>\n",
       "      <td>0.018018</td>\n",
       "      <td>0.207207</td>\n",
       "      <td>0.081081</td>\n",
       "      <td>0.081081</td>\n",
       "      <td>0.054054</td>\n",
       "      <td>0.045045</td>\n",
       "      <td>0.009009</td>\n",
       "      <td>0.063063</td>\n",
       "      <td>0.009009</td>\n",
       "      <td>0.018018</td>\n",
       "      <td>0.162162</td>\n",
       "      <td>0.162162</td>\n",
       "      <td>0.036036</td>\n",
       "    </tr>\n",
       "    <tr>\n",
       "      <th>2017</th>\n",
       "      <td>0.026087</td>\n",
       "      <td>0.000000</td>\n",
       "      <td>0.008696</td>\n",
       "      <td>0.269565</td>\n",
       "      <td>0.078261</td>\n",
       "      <td>0.086957</td>\n",
       "      <td>0.060870</td>\n",
       "      <td>0.043478</td>\n",
       "      <td>0.008696</td>\n",
       "      <td>0.086957</td>\n",
       "      <td>0.008696</td>\n",
       "      <td>0.017391</td>\n",
       "      <td>0.060870</td>\n",
       "      <td>0.191304</td>\n",
       "      <td>0.052174</td>\n",
       "    </tr>\n",
       "    <tr>\n",
       "      <th>2018</th>\n",
       "      <td>0.018692</td>\n",
       "      <td>0.000000</td>\n",
       "      <td>0.009346</td>\n",
       "      <td>0.224299</td>\n",
       "      <td>0.093458</td>\n",
       "      <td>0.093458</td>\n",
       "      <td>0.046729</td>\n",
       "      <td>0.046729</td>\n",
       "      <td>0.009346</td>\n",
       "      <td>0.084112</td>\n",
       "      <td>0.000000</td>\n",
       "      <td>0.009346</td>\n",
       "      <td>0.084112</td>\n",
       "      <td>0.205607</td>\n",
       "      <td>0.074766</td>\n",
       "    </tr>\n",
       "    <tr>\n",
       "      <th>2019</th>\n",
       "      <td>0.036364</td>\n",
       "      <td>0.000000</td>\n",
       "      <td>0.009091</td>\n",
       "      <td>0.254545</td>\n",
       "      <td>0.100000</td>\n",
       "      <td>0.127273</td>\n",
       "      <td>0.054545</td>\n",
       "      <td>0.063636</td>\n",
       "      <td>0.009091</td>\n",
       "      <td>0.063636</td>\n",
       "      <td>0.000000</td>\n",
       "      <td>0.018182</td>\n",
       "      <td>0.081818</td>\n",
       "      <td>0.118182</td>\n",
       "      <td>0.063636</td>\n",
       "    </tr>\n",
       "  </tbody>\n",
       "</table>\n",
       "</div>"
      ],
      "text/plain": [
       "topic      0.0       1.0       2.0       3.0       4.0       5.0       6.0   \\\n",
       "year                                                                          \n",
       "2010   0.031579  0.126316  0.084211  0.084211  0.063158  0.063158  0.042105   \n",
       "2011   0.031250  0.203125  0.093750  0.015625  0.078125  0.078125  0.015625   \n",
       "2012   0.059701  0.119403  0.074627  0.059701  0.074627  0.104478  0.059701   \n",
       "2013   0.037975  0.025316  0.000000  0.227848  0.126582  0.088608  0.050633   \n",
       "2014   0.073684  0.010526  0.031579  0.178947  0.105263  0.084211  0.073684   \n",
       "2015   0.048780  0.008130  0.024390  0.178862  0.081301  0.073171  0.073171   \n",
       "2016   0.054054  0.000000  0.018018  0.207207  0.081081  0.081081  0.054054   \n",
       "2017   0.026087  0.000000  0.008696  0.269565  0.078261  0.086957  0.060870   \n",
       "2018   0.018692  0.000000  0.009346  0.224299  0.093458  0.093458  0.046729   \n",
       "2019   0.036364  0.000000  0.009091  0.254545  0.100000  0.127273  0.054545   \n",
       "\n",
       "topic      7.0       8.0       9.0       10.0      11.0      12.0      13.0  \\\n",
       "year                                                                          \n",
       "2010   0.094737  0.052632  0.031579  0.073684  0.084211  0.073684  0.021053   \n",
       "2011   0.078125  0.062500  0.031250  0.062500  0.078125  0.093750  0.015625   \n",
       "2012   0.059701  0.104478  0.029851  0.044776  0.044776  0.134328  0.000000   \n",
       "2013   0.012658  0.012658  0.075949  0.000000  0.012658  0.113924  0.177215   \n",
       "2014   0.052632  0.010526  0.084211  0.000000  0.010526  0.042105  0.168421   \n",
       "2015   0.032520  0.008130  0.048780  0.008130  0.016260  0.203252  0.138211   \n",
       "2016   0.045045  0.009009  0.063063  0.009009  0.018018  0.162162  0.162162   \n",
       "2017   0.043478  0.008696  0.086957  0.008696  0.017391  0.060870  0.191304   \n",
       "2018   0.046729  0.009346  0.084112  0.000000  0.009346  0.084112  0.205607   \n",
       "2019   0.063636  0.009091  0.063636  0.000000  0.018182  0.081818  0.118182   \n",
       "\n",
       "topic      14.0  \n",
       "year             \n",
       "2010   0.073684  \n",
       "2011   0.062500  \n",
       "2012   0.029851  \n",
       "2013   0.037975  \n",
       "2014   0.073684  \n",
       "2015   0.056911  \n",
       "2016   0.036036  \n",
       "2017   0.052174  \n",
       "2018   0.074766  \n",
       "2019   0.063636  "
      ]
     },
     "execution_count": 57,
     "metadata": {},
     "output_type": "execute_result"
    }
   ],
   "source": [
    "df_trend"
   ]
  },
  {
   "cell_type": "code",
   "execution_count": 20,
   "metadata": {},
   "outputs": [
    {
     "data": {
      "image/png": "[encoded data removed]",
      "text/plain": [
       "<Figure size 432x288 with 1 Axes>"
      ]
     },
     "metadata": {
      "needs_background": "light"
     },
     "output_type": "display_data"
    },
    {
     "data": {
      "image/png": "[encoded data removed]",
      "text/plain": [
       "<Figure size 432x288 with 1 Axes>"
      ]
     },
     "metadata": {
      "needs_background": "light"
     },
     "output_type": "display_data"
    },
    {
     "data": {
      "image/png": "[encoded data removed]",
      "text/plain": [
       "<Figure size 432x288 with 1 Axes>"
      ]
     },
     "metadata": {
      "needs_background": "light"
     },
     "output_type": "display_data"
    },
    {
     "data": {
      "image/png": "[encoded data removed]",
      "text/plain": [
       "<Figure size 432x288 with 1 Axes>"
      ]
     },
     "metadata": {
      "needs_background": "light"
     },
     "output_type": "display_data"
    },
    {
     "data": {
      "image/png": "[encoded data removed]",
      "text/plain": [
       "<Figure size 432x288 with 1 Axes>"
      ]
     },
     "metadata": {
      "needs_background": "light"
     },
     "output_type": "display_data"
    },
    {
     "data": {
      "image/png": "[encoded data removed]",
      "text/plain": [
       "<Figure size 432x288 with 1 Axes>"
      ]
     },
     "metadata": {
      "needs_background": "light"
     },
     "output_type": "display_data"
    },
    {
     "data": {
      "image/png": "[encoded data removed]",
      "text/plain": [
       "<Figure size 432x288 with 1 Axes>"
      ]
     },
     "metadata": {
      "needs_background": "light"
     },
     "output_type": "display_data"
    },
    {
     "data": {
      "image/png": "[encoded data removed]",
      "text/plain": [
       "<Figure size 432x288 with 1 Axes>"
      ]
     },
     "metadata": {
      "needs_background": "light"
     },
     "output_type": "display_data"
    },
    {
     "data": {
      "image/png": "[encoded data removed]",
      "text/plain": [
       "<Figure size 432x288 with 1 Axes>"
      ]
     },
     "metadata": {
      "needs_background": "light"
     },
     "output_type": "display_data"
    },
    {
     "data": {
      "image/png": "[encoded data removed]",
      "text/plain": [
       "<Figure size 432x288 with 1 Axes>"
      ]
     },
     "metadata": {
      "needs_background": "light"
     },
     "output_type": "display_data"
    },
    {
     "data": {
      "image/png": "[encoded data removed]",
      "text/plain": [
       "<Figure size 432x288 with 1 Axes>"
      ]
     },
     "metadata": {
      "needs_background": "light"
     },
     "output_type": "display_data"
    },
    {
     "data": {
      "image/png": "[encoded data removed]",
      "text/plain": [
       "<Figure size 432x288 with 1 Axes>"
      ]
     },
     "metadata": {
      "needs_background": "light"
     },
     "output_type": "display_data"
    },
    {
     "data": {
      "image/png": "[encoded data removed]",
      "text/plain": [
       "<Figure size 432x288 with 1 Axes>"
      ]
     },
     "metadata": {
      "needs_background": "light"
     },
     "output_type": "display_data"
    },
    {
     "data": {
      "image/png": "[encoded data removed]",
      "text/plain": [
       "<Figure size 432x288 with 1 Axes>"
      ]
     },
     "metadata": {
      "needs_background": "light"
     },
     "output_type": "display_data"
    },
    {
     "data": {
      "image/png": "[encoded data removed]",
      "text/plain": [
       "<Figure size 432x288 with 1 Axes>"
      ]
     },
     "metadata": {
      "needs_background": "light"
     },
     "output_type": "display_data"
    }
   ],
   "source": [
    "for topic in df_trend:\n",
    "    fig, ax = plt.subplots()\n",
    "    plt.plot(years, df_trend[topic].values)\n",
    "    plt.ylim(0, 0.4)\n",
    "    plt.xticks(years, years, rotation='vertical')\n",
    "    plt.title(\"topic \"+ str(topic))"
   ]
  },
  {
   "cell_type": "markdown",
   "metadata": {},
   "source": [
    "### Checking for correlation with CPI \n",
    "\n",
    "Data is Consumer Price Index for all items less medical care in the US"
   ]
  },
  {
   "cell_type": "code",
   "execution_count": 89,
   "metadata": {},
   "outputs": [],
   "source": [
    "df_cpi = pd.read_csv('CPI.csv')\n",
    "df_cpi.columns = ['date','cpi']"
   ]
  },
  {
   "cell_type": "code",
   "execution_count": 58,
   "metadata": {},
   "outputs": [],
   "source": [
    "df_trend = df_trend.reset_index()\n",
    "df_trend_new = df_trend.drop('year', axis=1)"
   ]
  },
  {
   "cell_type": "code",
   "execution_count": 67,
   "metadata": {},
   "outputs": [
    {
     "data": {
      "text/plain": [
       "topic\n",
       "0.0    -0.435912\n",
       "1.0     0.504161\n",
       "2.0     0.353564\n",
       "3.0    -0.312309\n",
       "4.0    -0.073544\n",
       "5.0     0.220736\n",
       "6.0    -0.701844\n",
       "7.0     0.425159\n",
       "8.0     0.377258\n",
       "9.0    -0.026215\n",
       "10.0    0.339278\n",
       "11.0    0.376256\n",
       "12.0   -0.637755\n",
       "13.0   -0.251141\n",
       "14.0    0.210306\n",
       "dtype: float64"
      ]
     },
     "execution_count": 67,
     "metadata": {},
     "output_type": "execute_result"
    }
   ],
   "source": [
    "df_trend_new.corrwith(df_cpi['cpi'])"
   ]
  },
  {
   "cell_type": "markdown",
   "metadata": {},
   "source": [
    "Topic 6 shows some negative correlation with CPI at -0.702"
   ]
  },
  {
   "cell_type": "markdown",
   "metadata": {},
   "source": [
    "### Checking for correlation with Labor Force Statistics/Unemployment Rate"
   ]
  },
  {
   "cell_type": "code",
   "execution_count": 88,
   "metadata": {},
   "outputs": [],
   "source": [
    "labor = pd.read_excel('LaborForceStats.xlsx')"
   ]
  },
  {
   "cell_type": "code",
   "execution_count": 90,
   "metadata": {},
   "outputs": [
    {
     "data": {
      "text/html": [
       "<div>\n",
       "<style scoped>\n",
       "    .dataframe tbody tr th:only-of-type {\n",
       "        vertical-align: middle;\n",
       "    }\n",
       "\n",
       "    .dataframe tbody tr th {\n",
       "        vertical-align: top;\n",
       "    }\n",
       "\n",
       "    .dataframe thead th {\n",
       "        text-align: right;\n",
       "    }\n",
       "</style>\n",
       "<table border=\"1\" class=\"dataframe\">\n",
       "  <thead>\n",
       "    <tr style=\"text-align: right;\">\n",
       "      <th></th>\n",
       "      <th>Year</th>\n",
       "      <th>Jan</th>\n",
       "      <th>Feb</th>\n",
       "      <th>Mar</th>\n",
       "      <th>Apr</th>\n",
       "      <th>May</th>\n",
       "      <th>Jun</th>\n",
       "      <th>Jul</th>\n",
       "      <th>Aug</th>\n",
       "      <th>Sep</th>\n",
       "      <th>Oct</th>\n",
       "      <th>Nov</th>\n",
       "      <th>Dec</th>\n",
       "      <th>avg</th>\n",
       "    </tr>\n",
       "  </thead>\n",
       "  <tbody>\n",
       "    <tr>\n",
       "      <th>0</th>\n",
       "      <td>2010</td>\n",
       "      <td>9.8</td>\n",
       "      <td>9.8</td>\n",
       "      <td>9.9</td>\n",
       "      <td>9.9</td>\n",
       "      <td>9.6</td>\n",
       "      <td>9.4</td>\n",
       "      <td>9.4</td>\n",
       "      <td>9.5</td>\n",
       "      <td>9.5</td>\n",
       "      <td>9.4</td>\n",
       "      <td>9.8</td>\n",
       "      <td>9.3</td>\n",
       "      <td>9.608333</td>\n",
       "    </tr>\n",
       "    <tr>\n",
       "      <th>1</th>\n",
       "      <td>2011</td>\n",
       "      <td>9.1</td>\n",
       "      <td>9.0</td>\n",
       "      <td>9.0</td>\n",
       "      <td>9.1</td>\n",
       "      <td>9.0</td>\n",
       "      <td>9.1</td>\n",
       "      <td>9.0</td>\n",
       "      <td>9.0</td>\n",
       "      <td>9.0</td>\n",
       "      <td>8.8</td>\n",
       "      <td>8.6</td>\n",
       "      <td>8.5</td>\n",
       "      <td>8.933333</td>\n",
       "    </tr>\n",
       "    <tr>\n",
       "      <th>2</th>\n",
       "      <td>2012</td>\n",
       "      <td>8.3</td>\n",
       "      <td>8.3</td>\n",
       "      <td>8.2</td>\n",
       "      <td>8.2</td>\n",
       "      <td>8.2</td>\n",
       "      <td>8.2</td>\n",
       "      <td>8.2</td>\n",
       "      <td>8.1</td>\n",
       "      <td>7.8</td>\n",
       "      <td>7.8</td>\n",
       "      <td>7.7</td>\n",
       "      <td>7.9</td>\n",
       "      <td>8.075000</td>\n",
       "    </tr>\n",
       "    <tr>\n",
       "      <th>3</th>\n",
       "      <td>2013</td>\n",
       "      <td>8.0</td>\n",
       "      <td>7.7</td>\n",
       "      <td>7.5</td>\n",
       "      <td>7.6</td>\n",
       "      <td>7.5</td>\n",
       "      <td>7.5</td>\n",
       "      <td>7.3</td>\n",
       "      <td>7.2</td>\n",
       "      <td>7.2</td>\n",
       "      <td>7.2</td>\n",
       "      <td>6.9</td>\n",
       "      <td>6.7</td>\n",
       "      <td>7.358333</td>\n",
       "    </tr>\n",
       "    <tr>\n",
       "      <th>4</th>\n",
       "      <td>2014</td>\n",
       "      <td>6.6</td>\n",
       "      <td>6.7</td>\n",
       "      <td>6.7</td>\n",
       "      <td>6.2</td>\n",
       "      <td>6.3</td>\n",
       "      <td>6.1</td>\n",
       "      <td>6.2</td>\n",
       "      <td>6.1</td>\n",
       "      <td>5.9</td>\n",
       "      <td>5.7</td>\n",
       "      <td>5.8</td>\n",
       "      <td>5.6</td>\n",
       "      <td>6.158333</td>\n",
       "    </tr>\n",
       "    <tr>\n",
       "      <th>5</th>\n",
       "      <td>2015</td>\n",
       "      <td>5.7</td>\n",
       "      <td>5.5</td>\n",
       "      <td>5.4</td>\n",
       "      <td>5.4</td>\n",
       "      <td>5.6</td>\n",
       "      <td>5.3</td>\n",
       "      <td>5.2</td>\n",
       "      <td>5.1</td>\n",
       "      <td>5.0</td>\n",
       "      <td>5.0</td>\n",
       "      <td>5.1</td>\n",
       "      <td>5.0</td>\n",
       "      <td>5.275000</td>\n",
       "    </tr>\n",
       "    <tr>\n",
       "      <th>6</th>\n",
       "      <td>2016</td>\n",
       "      <td>4.9</td>\n",
       "      <td>4.9</td>\n",
       "      <td>5.0</td>\n",
       "      <td>5.0</td>\n",
       "      <td>4.8</td>\n",
       "      <td>4.9</td>\n",
       "      <td>4.8</td>\n",
       "      <td>4.9</td>\n",
       "      <td>5.0</td>\n",
       "      <td>4.9</td>\n",
       "      <td>4.7</td>\n",
       "      <td>4.7</td>\n",
       "      <td>4.875000</td>\n",
       "    </tr>\n",
       "    <tr>\n",
       "      <th>7</th>\n",
       "      <td>2017</td>\n",
       "      <td>4.7</td>\n",
       "      <td>4.6</td>\n",
       "      <td>4.4</td>\n",
       "      <td>4.4</td>\n",
       "      <td>4.4</td>\n",
       "      <td>4.3</td>\n",
       "      <td>4.3</td>\n",
       "      <td>4.4</td>\n",
       "      <td>4.2</td>\n",
       "      <td>4.1</td>\n",
       "      <td>4.2</td>\n",
       "      <td>4.1</td>\n",
       "      <td>4.341667</td>\n",
       "    </tr>\n",
       "    <tr>\n",
       "      <th>8</th>\n",
       "      <td>2018</td>\n",
       "      <td>4.1</td>\n",
       "      <td>4.1</td>\n",
       "      <td>4.0</td>\n",
       "      <td>4.0</td>\n",
       "      <td>3.8</td>\n",
       "      <td>4.0</td>\n",
       "      <td>3.8</td>\n",
       "      <td>3.8</td>\n",
       "      <td>3.7</td>\n",
       "      <td>3.8</td>\n",
       "      <td>3.7</td>\n",
       "      <td>3.9</td>\n",
       "      <td>3.891667</td>\n",
       "    </tr>\n",
       "    <tr>\n",
       "      <th>9</th>\n",
       "      <td>2019</td>\n",
       "      <td>4.0</td>\n",
       "      <td>3.8</td>\n",
       "      <td>3.8</td>\n",
       "      <td>3.6</td>\n",
       "      <td>3.6</td>\n",
       "      <td>3.7</td>\n",
       "      <td>3.7</td>\n",
       "      <td>3.7</td>\n",
       "      <td>3.5</td>\n",
       "      <td>3.6</td>\n",
       "      <td>3.5</td>\n",
       "      <td>3.5</td>\n",
       "      <td>3.666667</td>\n",
       "    </tr>\n",
       "  </tbody>\n",
       "</table>\n",
       "</div>"
      ],
      "text/plain": [
       "   Year  Jan  Feb  Mar  Apr  May  Jun  Jul  Aug  Sep  Oct  Nov  Dec       avg\n",
       "0  2010  9.8  9.8  9.9  9.9  9.6  9.4  9.4  9.5  9.5  9.4  9.8  9.3  9.608333\n",
       "1  2011  9.1  9.0  9.0  9.1  9.0  9.1  9.0  9.0  9.0  8.8  8.6  8.5  8.933333\n",
       "2  2012  8.3  8.3  8.2  8.2  8.2  8.2  8.2  8.1  7.8  7.8  7.7  7.9  8.075000\n",
       "3  2013  8.0  7.7  7.5  7.6  7.5  7.5  7.3  7.2  7.2  7.2  6.9  6.7  7.358333\n",
       "4  2014  6.6  6.7  6.7  6.2  6.3  6.1  6.2  6.1  5.9  5.7  5.8  5.6  6.158333\n",
       "5  2015  5.7  5.5  5.4  5.4  5.6  5.3  5.2  5.1  5.0  5.0  5.1  5.0  5.275000\n",
       "6  2016  4.9  4.9  5.0  5.0  4.8  4.9  4.8  4.9  5.0  4.9  4.7  4.7  4.875000\n",
       "7  2017  4.7  4.6  4.4  4.4  4.4  4.3  4.3  4.4  4.2  4.1  4.2  4.1  4.341667\n",
       "8  2018  4.1  4.1  4.0  4.0  3.8  4.0  3.8  3.8  3.7  3.8  3.7  3.9  3.891667\n",
       "9  2019  4.0  3.8  3.8  3.6  3.6  3.7  3.7  3.7  3.5  3.6  3.5  3.5  3.666667"
      ]
     },
     "execution_count": 90,
     "metadata": {},
     "output_type": "execute_result"
    }
   ],
   "source": [
    "labor['avg'] = labor[['Jan', 'Feb', 'Mar', 'Apr', 'May', 'Jun', 'Jul', 'Aug', 'Sep','Oct', 'Nov', 'Dec']].mean(axis=1)\n",
    "labor"
   ]
  },
  {
   "cell_type": "code",
   "execution_count": 85,
   "metadata": {},
   "outputs": [
    {
     "data": {
      "text/plain": [
       "topic\n",
       "0.0     0.115086\n",
       "1.0     0.863106\n",
       "2.0     0.834569\n",
       "3.0    -0.850964\n",
       "4.0    -0.287179\n",
       "5.0    -0.485324\n",
       "6.0    -0.477582\n",
       "7.0     0.473844\n",
       "8.0     0.734313\n",
       "9.0    -0.718813\n",
       "10.0    0.845759\n",
       "11.0    0.828278\n",
       "12.0   -0.049429\n",
       "13.0   -0.778017\n",
       "14.0   -0.069853\n",
       "dtype: float64"
      ]
     },
     "execution_count": 85,
     "metadata": {},
     "output_type": "execute_result"
    }
   ],
   "source": [
    "df_trend_new.corrwith(labor['avg'])"
   ]
  },
  {
   "cell_type": "markdown",
   "metadata": {},
   "source": [
    "High positive correlation of Topics 1,2,10,and 11 with Labor Force Statistics. High negative correlation with Topic 3."
   ]
  },
  {
   "cell_type": "markdown",
   "metadata": {},
   "source": [
    "### Checking for correlation with WMT Stock Price"
   ]
  },
  {
   "cell_type": "code",
   "execution_count": null,
   "metadata": {},
   "outputs": [],
   "source": []
  }
 ],
 "metadata": {
  "kernelspec": {
   "display_name": "Python 3",
   "language": "python",
   "name": "python3"
  },
  "language_info": {
   "codemirror_mode": {
    "name": "ipython",
    "version": 3
   },
   "file_extension": ".py",
   "mimetype": "text/x-python",
   "name": "python",
   "nbconvert_exporter": "python",
   "pygments_lexer": "ipython3",
   "version": "3.7.6"
  }
 },
 "nbformat": 4,
 "nbformat_minor": 4
}
