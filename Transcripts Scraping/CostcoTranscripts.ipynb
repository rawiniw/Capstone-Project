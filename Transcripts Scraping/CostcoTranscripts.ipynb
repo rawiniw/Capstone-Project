{
 "cells": [
  {
   "cell_type": "markdown",
   "metadata": {},
   "source": [
    "# Test the code on Target data\n",
    "March 24th"
   ]
  },
  {
   "cell_type": "markdown",
   "metadata": {},
   "source": [
    "## Parsing"
   ]
  },
  {
   "cell_type": "code",
   "execution_count": 14,
   "metadata": {},
   "outputs": [
    {
     "name": "stderr",
     "output_type": "stream",
     "text": [
      "[nltk_data] Downloading package averaged_perceptron_tagger to\n",
      "[nltk_data]     C:\\Users\\harit\\AppData\\Roaming\\nltk_data...\n",
      "[nltk_data]   Package averaged_perceptron_tagger is already up-to-\n",
      "[nltk_data]       date!\n"
     ]
    }
   ],
   "source": [
    "import pandas as pd\n",
    "import numpy as np\n",
    "import os\n",
    "\n",
    "import pdftotext\n",
    "import re\n",
    "from itertools import chain\n",
    "\n",
    "import nltk\n",
    "from nltk.tokenize import word_tokenize\n",
    "from nltk.corpus import wordnet\n",
    "from nltk.stem.wordnet import WordNetLemmatizer\n",
    "from nltk.corpus import stopwords\n",
    "nltk.download('averaged_perceptron_tagger')\n",
    "\n",
    "from sklearn.feature_extraction.text import CountVectorizer\n",
    "from sklearn.decomposition import LatentDirichletAllocation as LDA\n",
    "\n",
    "\n",
    "def is_FactSet(filepath):\n",
    "    check_words = [\"Corrected Transcript\",\n",
    "                  \"www.callstreet.com\",\n",
    "                  \"FactSet CallStreet, LLC\"]\n",
    "    pdfFileObj = open(filepath,'rb')\n",
    "    pdf = pdftotext.PDF(pdfFileObj)\n",
    "    text = \"\\n\\n\".join(pdf)\n",
    "    if all([ check_word in text for check_word in check_words]):\n",
    "        return(\"FactSet\")\n",
    "    else:\n",
    "        return(\"plain\")\n",
    "    \n",
    "\n",
    "\n",
    "def get_fp_cp(fp):\n",
    "    # fp means front page: from first page to Corporate Participants\n",
    "    # get names of Corporate Participants\n",
    "    output = list()\n",
    "    for item in fp[fp.index(\"CORPORATE PARTICIPANTS\"):]:\n",
    "        if \"Walmart\" in item:\n",
    "            for x in item.split(\".\"):\n",
    "                output = output + x.split(\",\")\n",
    "            for x in item.split(\"-\"):\n",
    "                output = output + x.split(\"   \")\n",
    "            for x in item.split(\"-\"):\n",
    "                output = output + x.split(\".\")\n",
    "            for x in item.split(\"   \"):\n",
    "                output = output + x.split(\",\")\n",
    "        else: \n",
    "            output = output + item.split()\n",
    "    return([item.strip() for item in output if len(item) > 1]) \n",
    "\n",
    "\n",
    "\n",
    "def parse_FactSet_para(filepath, filename):\n",
    "    \"\"\" return a dataframe, each row is a paragraph spoken by one person\n",
    "    # columns include (1)paragraph and (2)date\n",
    "    \"\"\" \n",
    "    pdfFileObj = open(filepath,'rb')\n",
    "    pdf = pdftotext.PDF(pdfFileObj)\n",
    "    text = \"\\n\\n\".join(pdf)\n",
    "\n",
    "    tmp = text.split(\"........................................\\\n",
    "..............................................................\\\n",
    "..............................................................\\\n",
    "..................................................................................\")\n",
    "\n",
    "    # process words appeared in the front page and CORPORATE PARTICIPANTS section\n",
    "    # fp means front page: from first page to Corporate Participants\n",
    "    # fp contains a lot of info that repeat in the file\n",
    "    fp = [item.strip() for item in tmp[0].split(\"\\r\\n\") if len(item)>=1]\n",
    "\n",
    "    # \n",
    "    to_be_removed = [fp[0], fp[1], fp[3]] + \\\n",
    "                    fp[2].split() + \\\n",
    "                    [x for x in fp[5].split(\" \") if len(x) >= 1]\n",
    "\n",
    "    # sort words to be removed by len to prevent missing to remove longer words\n",
    "    to_be_removed_df = pd.DataFrame(set(to_be_removed))\n",
    "    to_be_removed_df[\"len\"] = to_be_removed_df[0].map(lambda x: len(x))\n",
    "    to_be_removed_df = to_be_removed_df.sort_values([\"len\"], ascending = False)\n",
    "\n",
    "    # remove words from fp\n",
    "    for item in to_be_removed_df[0]:\n",
    "        for i in range(1, len(tmp)):\n",
    "            tmp[i] = tmp[i].replace(item, '')\n",
    "\n",
    "    # remove \"\\r\\n\"\n",
    "    for i in range(1, len(tmp)):\n",
    "        tmp[i] = tmp[i].replace(\"\\r\\n\", ' ').lstrip(\", \")\n",
    "\n",
    "    # \n",
    "    tmp = pd.DataFrame(tmp[2:], columns=[\"paragraph\"])\n",
    "    \n",
    "    # add date\n",
    "    tmp[\"date\"] = pd.to_datetime(filename[:8])\n",
    "\n",
    "    return(tmp)\n",
    "\n",
    "\n",
    "def parse_plain_para(filepath, filename):\n",
    "    \"\"\" return a dataframe, each row is a paragraph spoken by one person\n",
    "    # columns include (1)paragraph and (2)date\n",
    "    \"\"\" \n",
    "    pdfFileObj = open(filepath,'rb')\n",
    "    pdf = pdftotext.PDF(pdfFileObj)\n",
    "    # combine pages\n",
    "    text = \"\\n\\n\".join(pdf)\n",
    "    # locate \"\\r\\n\" to locate starts of paragraphs later\n",
    "    text = re.sub(\"\\r\\n\", \" WRAPTEXT \",text)\n",
    "\n",
    "    # remove unuseful terms\n",
    "    ##### if got time, revise this part bc it takes too long\n",
    "    to_remove = [\" THOMSON REUTERS STREETEVENTS\", \" ©2018 Thomson\", \n",
    "              \" Client Id\", '\\uf0b7', \" ©2017 Thomson\", \" ©2016 Thomson\",\n",
    "               \"WAL-MART STORES, INC. COMPANY CONFERENCE PRESENTATION\",\n",
    "                \"WAL-MART STORES INC. COMPANY CONFERENCE PRESENTATION \",\n",
    "                \"Thomson Reuters\", \"Investment Community \"]\n",
    "    for item in to_remove:\n",
    "        text = re.sub(item, \" \",text)\n",
    "\n",
    "    # tokenize and tag POS\n",
    "    tokens = nltk.word_tokenize(text)\n",
    "    pos = nltk.pos_tag(tokens)\n",
    "\n",
    "    # locate starts of paragraphs\n",
    "    locate = list()\n",
    "    for i in range(len(pos)-2):\n",
    "        punctuation = [\"•\", \"’\"]\n",
    "        if pos[i][0] == \"WRAPTEXT\" and pos[i+1][1] == \"NNP\" and pos[i+1][0] != \"•\" and pos[i+2][1] == \"NNP\"\\\n",
    "        and pos[i+2][0] not in punctuation:\n",
    "            locate.append((i, [pos[i+1], pos[i+2]]))\n",
    "        elif pos[i][0] == \"WRAPTEXT\" and pos[i+1][1] == \"NNP\" and pos[i+1][0] not in punctuation and pos[i+2][0] == \":\" :\n",
    "            locate.append((i, [pos[i+1], pos[i+2]]))\n",
    "\n",
    "    tmp = list()\n",
    "    for i in range(0,len(locate)-1):\n",
    "        start_loc = int(locate[i][0])\n",
    "        end_loc = int(locate[i+1][0])\n",
    "        para = tokens[start_loc:end_loc]\n",
    "        tmp.append(\" \".join(para))\n",
    "        \n",
    "    tmp = pd.DataFrame(tmp, columns=[\"paragraph\"])\n",
    "    tmp[\"date\"] = pd.to_datetime(filename[:8])\n",
    "    return(tmp)\n",
    "\n",
    "def consolidate_files(years):\n",
    "    \"\"\"\n",
    "        input is list of years\n",
    "        output is df, columns include \"filename\", \"filepath\", \"type\"\n",
    "    \"\"\"\n",
    "    files = pd.DataFrame()\n",
    "    for year in years:\n",
    "        path = os.getcwd() + '\\Transcripts' + \"\\\\\" + str(year)\n",
    "        # get file names\n",
    "        tmp = pd.DataFrame(os.listdir(path), columns=[\"filename\"])\n",
    "        # get file path for each file\n",
    "        tmp[\"filepath\"] = tmp[\"filename\"].map(lambda x: path + \"\\\\\" + x)\n",
    "        # check if it's a fancy(FACTSET) file\n",
    "        tmp[\"type\"] = tmp[\"filename\"].map(lambda x: is_FactSet(path + \"\\\\\" + x))\n",
    "        files = pd.concat([files, tmp])\n",
    "        \n",
    "    files = files.reset_index(drop=True)\n",
    "    return(files)\n",
    "\n",
    "def consolidate_files_others(company):\n",
    "    \"\"\"\n",
    "        input is the name of company, the name of folder\n",
    "        output is df, columns include \"filename\", \"filepath\", \"type\"\n",
    "    \"\"\"\n",
    "    # get path\n",
    "    path = os.getcwd() + '\\Transcripts Scraping' + \"\\\\\" + company\n",
    "    # get file names\n",
    "    tmp = pd.DataFrame(os.listdir(path), columns=[\"filename\"])\n",
    "    # get file path for each file\n",
    "    tmp[\"filepath\"] = tmp[\"filename\"].map(lambda x: path + \"\\\\\" + x)\n",
    "    # check if it's a fancy(FACTSET) file\n",
    "    tmp[\"type\"] = tmp[\"filename\"].map(lambda x: is_FactSet(path + \"\\\\\" + x))     \n",
    "\n",
    "    return(tmp)\n",
    "\n",
    "\n",
    "def filenames_to_para(files):\n",
    "    \"\"\"\n",
    "        input is df, columns include \"filename\", \"filepath\", \"type\"\n",
    "        output is df, columns include paragraph and date\n",
    "    \"\"\"\n",
    "    paragraphs = pd.DataFrame()\n",
    "    for i in files.index:\n",
    "        filepath = files.loc[i, \"filepath\"]\n",
    "        filename = files.loc[i, \"filename\"]\n",
    "        if files.loc[i, \"type\"] == \"plain\":\n",
    "            paragraphs = pd.concat([paragraphs, parse_plain_para(filepath, filename)], ignore_index=True)\n",
    "        elif files.loc[i, \"type\"] == \"FactSet\":\n",
    "            paragraphs = pd.concat([paragraphs, parse_FactSet_para(filepath, filename)], ignore_index=True)\n",
    "    return(paragraphs)\n",
    "\n",
    "\n",
    "\n",
    "def get_unique_words(para_tokens):\n",
    "    \"\"\"\n",
    "    input is a pd.Series of lists of POS-tagged words\n",
    "    \"\"\"\n",
    "    all_tokens = list(chain.from_iterable(para_tokens))\n",
    "    all_tokens = pd.Series(all_tokens)\n",
    "    tokens_count = all_tokens.value_counts()\n",
    "    return(tokens_count)\n",
    "\n",
    "    \n",
    "\n",
    "# collect all tagged tokens\n",
    "def get_all_wordsPos(token_pos, duplicate=False):\n",
    "    all_tokens = pd.Series(chain.from_iterable(token_pos))\n",
    "    if duplicate == True:\n",
    "        all_tokens = all_tokens.drop_duplicates()\n",
    "    d = {\"word\": all_tokens.map(lambda x: x[0]),\n",
    "         \"pos\": all_tokens.map(lambda x: x[1])}\n",
    "    return(pd.DataFrame(d))\n",
    "\n",
    "\n",
    "\n",
    "# this is for wordnet lemmatizer to recognize POS\n",
    "def get_wordnet_pos(treebank_tag):\n",
    "    if treebank_tag.startswith('J'):\n",
    "        return wordnet.ADJ\n",
    "    elif treebank_tag.startswith('V'):\n",
    "        return wordnet.VERB\n",
    "    elif treebank_tag.startswith('N'):\n",
    "        return wordnet.NOUN\n",
    "    elif treebank_tag.startswith('R'):\n",
    "        return wordnet.ADV\n",
    "    else:\n",
    "        return ''\n",
    "\n",
    "\n",
    "\n",
    "# Helper function\n",
    "def print_topics(model, count_vectorizer, n_top_words):\n",
    "    words = count_vectorizer.get_feature_names()\n",
    "    for topic_idx, topic in enumerate(model.components_):\n",
    "        print(\"\\nTopic #%d:\" % topic_idx)\n",
    "        print(\" \".join([words[i]\n",
    "                        for i in topic.argsort()[:-n_top_words - 1:-1]]))\n",
    "\n"
   ]
  },
  {
   "cell_type": "code",
   "execution_count": 15,
   "metadata": {},
   "outputs": [],
   "source": [
    "import pandas as pd\n",
    "import os\n",
    "#from transcript_functions import *\n",
    "import nltk\n",
    "from nltk.tokenize import word_tokenize\n",
    "from nltk.corpus import wordnet\n",
    "from nltk.stem.wordnet import WordNetLemmatizer\n",
    "from nltk.corpus import stopwords\n",
    "import matplotlib.pyplot as plt\n",
    "%matplotlib inline  "
   ]
  },
  {
   "cell_type": "code",
   "execution_count": 18,
   "metadata": {},
   "outputs": [],
   "source": [
    "files = consolidate_files_others('Costco2')"
   ]
  },
  {
   "cell_type": "code",
   "execution_count": 19,
   "metadata": {},
   "outputs": [
    {
     "name": "stdout",
     "output_type": "stream",
     "text": [
      "Wall time: 16.4 s\n"
     ]
    }
   ],
   "source": [
    "%%time\n",
    "# parse into paragraphs\n",
    "df = filenames_to_para(files)"
   ]
  },
  {
   "cell_type": "markdown",
   "metadata": {},
   "source": [
    "## Preprocessing"
   ]
  },
  {
   "cell_type": "code",
   "execution_count": 20,
   "metadata": {},
   "outputs": [
    {
     "name": "stdout",
     "output_type": "stream",
     "text": [
      "Wall time: 15.8 s\n"
     ]
    }
   ],
   "source": [
    "%%time\n",
    "df[\"tokens\"] = df[\"paragraph\"].map(nltk.word_tokenize)\n",
    "\n",
    "# tag Part of Speech\n",
    "df[\"tokens_pos\"] = df[\"tokens\"].map(nltk.pos_tag)\n",
    "\n",
    "## to check distribution of POS tags\n",
    "# df_all_tokens = get_all_wordsPos(df[\"tokens_pos\"])\n",
    "\n",
    "# filter words with pos not in pos_remaining\n",
    "pos_remaining = [\"NN\", \"NNS\", \n",
    "                 \"VB\", \"VBD\", \"VBN\", \"VBP\", \"VBZ\"\n",
    "                ] # take out \"JJ\", \"JJR\", \"JJS\"\n",
    "df[\"tokens_pos\"] = df[\"tokens_pos\"].map(lambda x: [tup for tup in x if tup[1] in pos_remaining])\n",
    "\n",
    "# lemmatize with POS\n",
    "lemmatizer = WordNetLemmatizer()\n",
    "df[\"tokens_clean\"] = df[\"tokens_pos\"].map(lambda x: [lemmatizer.lemmatize(tup[0], get_wordnet_pos(tup[1])) for tup in x ])\n",
    "\n",
    "# remove rows that have no content after lemmatization\n",
    "df = df[df[\"tokens_clean\"].map(lambda x: len(x)>=1)]\n",
    "\n",
    "# remove punctuation\n",
    "punctuation = \"!\\\"#$%&'()*+,-./:;<=>?@[\\]^_`{|}~...\"\n",
    "df[\"tokens_clean\"] = df[\"tokens_clean\"].map(lambda x: [word for word in x if word.lower() not in punctuation])\n",
    "\n",
    "# remove stop words\n",
    "stop_words = set(stopwords.words('english'))\n",
    "df[\"tokens_clean\"] = df[\"tokens_clean\"].map(lambda x: [word for word in x if word.lower() not in stop_words])\n",
    "\n",
    "# remove some specific cases\n",
    "others = [\"'s\", \"'re\", \"'ve\", \"n't\", \"'ll\", \"–\", \"'m\"]\n",
    "df[\"tokens_clean\"] = df[\"tokens_clean\"].map(lambda x: [word for word in x if word.lower() not in others])\n",
    "\n",
    "# lower case\n",
    "df[\"tokens_clean\"] = df[\"tokens_clean\"].map(lambda x: [word.lower() for word in x])\n",
    "\n",
    "df = df[df[\"tokens_clean\"].map(lambda x: len(x)>=1)]\n",
    "\n",
    "# # remove short words\n",
    "# df[\"tokens_clean\"] = df[\"tokens_clean\"].map(lambda x: [word for word in x if len(word)>3])\n",
    "\n",
    "# # remove long words\n",
    "# df[\"tokens_clean\"] = df[\"tokens_clean\"].map(lambda x: [word for word in x if len(word)<16])"
   ]
  },
  {
   "cell_type": "code",
   "execution_count": 21,
   "metadata": {},
   "outputs": [],
   "source": [
    "# removing some words\n",
    "removing_words = [\n",
    "    \"get\", \"think\", \"thing\", \"know\", \"kind\", \"way\", \"look\", \"year\",\n",
    "     \"question\", \"guy\", \"thank\", \"quarter\", \"lot\", \"want\", \"herein\",\n",
    "    \"talk\", \"guess\", \"see\", \"say\", \"make\", \"go\", \"store\", \"customer\",\n",
    "    \"business\", \"time\", \"ph\", \"take\", \"bit\", \"work\", \"morning\", \n",
    "    \"company\", \"mean\", \"wraptext\", \"”\", '’'\n",
    "]\n",
    "df[\"tokens_clean\"] = df[\"tokens_clean\"].map(lambda x: [word for word in x if word.lower() not in removing_words])\n",
    "\n",
    "## filter out rows containing too few words/tokens\n",
    "df[\"len_clean\"] = df[\"tokens_clean\"].map(len)\n",
    "df = df[df[\"len_clean\"]>10]\n",
    "\n",
    "# removing disclaimer\n",
    "df = df[df[\"paragraph\"].map(lambda x: \"The information in the transcripts\" not in x)]\n",
    "df = df[df[\"paragraph\"].map(lambda x: \"disclaimer\" not in x.lower())]"
   ]
  },
  {
   "cell_type": "code",
   "execution_count": 22,
   "metadata": {},
   "outputs": [],
   "source": [
    "# removing some paragraphs\n",
    "removing_words = [\"www.streetevents.com\"]\n",
    "\n",
    "mask = df[\"tokens_clean\"].map(lambda x: removing_words[0] not in x)\n",
    "df = df[mask]\n",
    "\n",
    "# removing short paragraphs\n",
    "df = df[df.len_clean > 22]"
   ]
  },
  {
   "cell_type": "markdown",
   "metadata": {},
   "source": [
    "## Check omni's tag"
   ]
  },
  {
   "cell_type": "code",
   "execution_count": null,
   "metadata": {},
   "outputs": [],
   "source": [
    "# df[\"tokens_pos\"] = df[\"tokens\"].map(nltk.pos_tag)\n",
    "# tokens_pos = df[\"tokens_pos\"]\n",
    "# key_word = \"omni\"\n",
    "# check = get_unique_words(tokens_pos)\n",
    "# check = pd.DataFrame(check)\n",
    "# check[\"pos\"] = check.index\n",
    "# check[check[\"pos\"].map(lambda x: key_word in x[0])]"
   ]
  },
  {
   "cell_type": "code",
   "execution_count": null,
   "metadata": {},
   "outputs": [],
   "source": [
    "# # look at unique words to get a sense what needs to be delete\n",
    "# unique_words = get_unique_words(df[\"tokens_clean\"])"
   ]
  },
  {
   "cell_type": "markdown",
   "metadata": {},
   "source": [
    "## LDA"
   ]
  },
  {
   "cell_type": "code",
   "execution_count": 23,
   "metadata": {},
   "outputs": [],
   "source": [
    "import numpy as np\n",
    "from sklearn.feature_extraction.text import CountVectorizer\n",
    "from sklearn.decomposition import LatentDirichletAllocation as LDA"
   ]
  },
  {
   "cell_type": "code",
   "execution_count": 24,
   "metadata": {
    "scrolled": false
   },
   "outputs": [
    {
     "name": "stdout",
     "output_type": "stream",
     "text": [
      "topic: 1  ====================\n",
      "price           1.91%\n",
      "people          1.78%\n",
      "item            1.56%\n",
      "help            1.28%\n",
      "millennials      1.28%\n",
      "fact            1.13%\n",
      "point           1.01%\n",
      "value           1.00%\n",
      "end             0.81%\n",
      "come            0.81%\n",
      "topic: 2  ====================\n",
      "card            6.10%\n",
      "member          2.74%\n",
      "sign            2.04%\n",
      "people          1.89%\n",
      "credit          1.85%\n",
      "transition      1.35%\n",
      "increase        1.33%\n",
      "term            1.31%\n",
      "week            1.13%\n",
      "use             1.06%\n",
      "topic: 3  ====================\n",
      "basis           5.31%\n",
      "point           4.89%\n",
      "gas             3.02%\n",
      "report          2.59%\n",
      "margin          1.91%\n",
      "sale            1.83%\n",
      "deflation       1.77%\n",
      "term            1.66%\n",
      "year            1.54%\n",
      "income          1.45%\n",
      "topic: 4  ====================\n",
      "unit            2.56%\n",
      "item            2.26%\n",
      "vendor          2.14%\n",
      "day             1.76%\n",
      "change          1.59%\n",
      "warehouse       1.45%\n",
      "margin          1.34%\n",
      "end             1.31%\n",
      "size            1.29%\n",
      "sale            1.18%\n",
      "topic: 5  ====================\n",
      "basis           3.56%\n",
      "point           3.07%\n",
      "sale            2.87%\n",
      "report          2.68%\n",
      "increase        1.87%\n",
      "impact          1.78%\n",
      "end             1.78%\n",
      "term            1.62%\n",
      "gas             1.62%\n",
      "week            1.47%\n",
      "topic: 6  ====================\n",
      "number          3.02%\n",
      "member          2.55%\n",
      "rate            2.19%\n",
      "sign            2.10%\n",
      "renewal         1.77%\n",
      "retailer        1.34%\n",
      "ups             1.26%\n",
      "give            1.11%\n",
      "tax             1.02%\n",
      "program         0.94%\n",
      "topic: 7  ====================\n",
      "number          2.33%\n",
      "money           1.70%\n",
      "cash            1.52%\n",
      "price           1.42%\n",
      "member          1.40%\n",
      "gallon          1.35%\n",
      "bucket          1.23%\n",
      "stuff           1.14%\n",
      "something       1.10%\n",
      "everybody       1.05%\n",
      "topic: 8  ====================\n",
      "margin          2.67%\n",
      "number          2.44%\n",
      "sale            2.43%\n",
      "system          2.31%\n",
      "item            2.27%\n",
      "give            1.92%\n",
      "example         1.79%\n",
      "member          1.48%\n",
      "food            1.25%\n",
      "beef            1.20%\n",
      "topic: 9  ====================\n",
      "online          2.10%\n",
      "buy             1.66%\n",
      "card            1.61%\n",
      "member          1.45%\n",
      "change          1.36%\n",
      "use             1.30%\n",
      "fee             1.28%\n",
      "drive           1.26%\n",
      "people          1.25%\n",
      "margin          1.23%\n",
      "topic: 10  ====================\n",
      "plant           2.71%\n",
      "car             2.53%\n",
      "part            1.87%\n",
      "chicken         1.77%\n",
      "cost            1.69%\n",
      "rental          1.50%\n",
      "definition      1.41%\n",
      "continue        1.32%\n",
      "money           1.26%\n",
      "country         1.19%\n",
      "topic: 11  ====================\n",
      "item            6.92%\n",
      "ticket          1.86%\n",
      "apparel         1.84%\n",
      "call            1.62%\n",
      "electronics      1.49%\n",
      "good            1.30%\n",
      "area            1.16%\n",
      "people          0.96%\n",
      "aid             0.88%\n",
      "relate          0.86%\n",
      "topic: 12  ====================\n",
      "market          3.55%\n",
      "unit            3.25%\n",
      "open            2.70%\n",
      "country         2.37%\n",
      "location        2.34%\n",
      "people          2.19%\n",
      "member          1.63%\n",
      "term            1.59%\n",
      "start           1.40%\n",
      "warehouse       1.26%\n",
      "topic: 13  ====================\n",
      "price           2.82%\n",
      "month           2.36%\n",
      "difference      2.21%\n",
      "basket          1.72%\n",
      "deflation       1.61%\n",
      "impact          1.42%\n",
      "stuff           1.37%\n",
      "item            1.30%\n",
      "core            1.17%\n",
      "meat            1.13%\n",
      "topic: 14  ====================\n",
      "point           1.92%\n",
      "country         1.82%\n",
      "change          1.18%\n",
      "price           1.17%\n",
      "employee        1.07%\n",
      "help            1.03%\n",
      "feel            0.99%\n",
      "start           0.99%\n",
      "car             0.88%\n",
      "drag            0.88%\n",
      "topic: 15  ====================\n",
      "item            6.42%\n",
      "price           2.59%\n",
      "continue        1.97%\n",
      "impact          1.63%\n",
      "term            1.46%\n",
      "tariff          1.22%\n",
      "day             1.20%\n",
      "brand           1.20%\n",
      "increase        1.09%\n",
      "number          1.09%\n",
      "topic: 16  ====================\n",
      "week            2.06%\n",
      "price           1.96%\n",
      "term            1.90%\n",
      "member          1.36%\n",
      "delivery        1.30%\n",
      "share           1.28%\n",
      "end             1.26%\n",
      "open            1.22%\n",
      "offering        1.16%\n",
      "unit            1.11%\n",
      "topic: 17  ====================\n",
      "month           3.22%\n",
      "number          2.38%\n",
      "couple          2.26%\n",
      "member          1.68%\n",
      "help            1.51%\n",
      "term            1.38%\n",
      "sale            1.30%\n",
      "come            1.05%\n",
      "category        1.04%\n",
      "give            1.01%\n",
      "topic: 18  ====================\n",
      "point           1.65%\n",
      "cost            1.50%\n",
      "breakage        1.44%\n",
      "deflation       1.13%\n",
      "basis           1.07%\n",
      "give            1.07%\n",
      "item            1.05%\n",
      "everything      1.04%\n",
      "member          1.03%\n",
      "people          0.92%\n",
      "topic: 19  ====================\n",
      "item            3.91%\n",
      "price           2.82%\n",
      "value           2.79%\n",
      "help            2.08%\n",
      "something       1.69%\n",
      "food            1.50%\n",
      "drive           1.44%\n",
      "margin          1.39%\n",
      "keep            1.37%\n",
      "shop            1.29%\n",
      "topic: 20  ====================\n",
      "egg             2.00%\n",
      "shareholder      1.97%\n",
      "change          1.49%\n",
      "people          1.48%\n",
      "like            1.41%\n",
      "month           1.15%\n",
      "hunt            1.01%\n",
      "pork            0.98%\n",
      "treasure        0.94%\n",
      "sense           0.86%\n"
     ]
    }
   ],
   "source": [
    "# prepare count vector as the input of LDA model\n",
    "df[\"corpus\"] = df[\"tokens_clean\"].map(lambda x: ', '.join(x))\n",
    "count_vectorizer = CountVectorizer()\n",
    "count_data = count_vectorizer.fit_transform(df[\"corpus\"])\n",
    "\n",
    "number_topics = 20\n",
    "\n",
    "# fix random_state at 33\n",
    "lda = LDA(n_components=number_topics, n_jobs=-1, random_state =33)\n",
    "lda.fit(count_data)\n",
    "       \n",
    "number_words = 12\n",
    "# print_topics(lda, count_vectorizer, number_words)\n",
    "\n",
    "words = count_vectorizer.get_feature_names()\n",
    "\n",
    "# print topics and key words\n",
    "for topic in range(0,number_topics):\n",
    "    topic_vec = lda.components_[topic]\n",
    "    topic_idx = topic_vec.argsort()[:-10 - 1:-1]\n",
    "    print(\"topic:\", topic + 1, \" ====================\")\n",
    "    for i in topic_idx:\n",
    "        print('{:<10} {:>10.2%}'.format(words[i], topic_vec[i]/topic_vec.sum()))"
   ]
  },
  {
   "cell_type": "markdown",
   "metadata": {},
   "source": [
    "## Visualize topic distribution"
   ]
  },
  {
   "cell_type": "code",
   "execution_count": 25,
   "metadata": {},
   "outputs": [
    {
     "data": {
      "text/plain": [
       "<matplotlib.axes._subplots.AxesSubplot at 0x214f8ef2cf8>"
      ]
     },
     "execution_count": 25,
     "metadata": {},
     "output_type": "execute_result"
    },
    {
     "data": {
      "image/png": "[encoded data removed]",
      "text/plain": [
       "<Figure size 720x360 with 1 Axes>"
      ]
     },
     "metadata": {
      "needs_background": "light"
     },
     "output_type": "display_data"
    }
   ],
   "source": [
    "# assign topic to paragraphs\n",
    "topic_match = lda.transform(count_data)\n",
    "df[\"topic\"] = [ x.argsort()[-1] + 1 for x in topic_match]\n",
    "\n",
    "# # chech how many topics in each paragraphs\n",
    "# df[\"number of topics\"] = [sum(x>x.mean()) for x in topic_match]\n",
    "\n",
    "topic_counts = df[\"topic\"].value_counts()\n",
    "(topic_counts/topic_counts.sum()).plot(x=\"Topics\", y=\"percentage\",\n",
    "                                       title=\"Topic Distribution for selected events\",\n",
    "                                       kind=\"bar\", figsize=(10,5))"
   ]
  },
  {
   "cell_type": "markdown",
   "metadata": {},
   "source": [
    "## Visualize paragraph counts for each year"
   ]
  },
  {
   "cell_type": "code",
   "execution_count": 26,
   "metadata": {},
   "outputs": [
    {
     "data": {
      "text/plain": [
       "<matplotlib.axes._subplots.AxesSubplot at 0x214fa260438>"
      ]
     },
     "execution_count": 26,
     "metadata": {},
     "output_type": "execute_result"
    },
    {
     "data": {
      "image/png": "[encoded data removed]",
      "text/plain": [
       "<Figure size 432x288 with 1 Axes>"
      ]
     },
     "metadata": {
      "needs_background": "light"
     },
     "output_type": "display_data"
    }
   ],
   "source": [
    "# df['quarter'] = pd.PeriodIndex(df.date, freq='Q')\n",
    "df['year'] = pd.PeriodIndex(df.date, freq='Y')\n",
    "df[\"year\"].value_counts().sort_index().plot(kind='bar')"
   ]
  },
  {
   "cell_type": "markdown",
   "metadata": {},
   "source": [
    "## Topic trends"
   ]
  },
  {
   "cell_type": "code",
   "execution_count": 27,
   "metadata": {},
   "outputs": [
    {
     "ename": "NameError",
     "evalue": "name 'test' is not defined",
     "output_type": "error",
     "traceback": [
      "\u001b[1;31m---------------------------------------------------------------------------\u001b[0m",
      "\u001b[1;31mNameError\u001b[0m                                 Traceback (most recent call last)",
      "\u001b[1;32m<ipython-input-27-d2ee2e0dfbea>\u001b[0m in \u001b[0;36m<module>\u001b[1;34m\u001b[0m\n\u001b[1;32m----> 1\u001b[1;33m \u001b[0mtmp\u001b[0m \u001b[1;33m=\u001b[0m \u001b[0mpd\u001b[0m\u001b[1;33m.\u001b[0m\u001b[0mcrosstab\u001b[0m\u001b[1;33m(\u001b[0m\u001b[0mtest\u001b[0m\u001b[1;33m[\u001b[0m\u001b[1;34m\"year\"\u001b[0m\u001b[1;33m]\u001b[0m\u001b[1;33m,\u001b[0m \u001b[0mtest\u001b[0m\u001b[1;33m[\u001b[0m\u001b[1;34m\"topic\"\u001b[0m\u001b[1;33m]\u001b[0m\u001b[1;33m,\u001b[0m \u001b[0mnormalize\u001b[0m\u001b[1;33m=\u001b[0m\u001b[1;34m\"index\"\u001b[0m\u001b[1;33m)\u001b[0m\u001b[1;33m\u001b[0m\u001b[1;33m\u001b[0m\u001b[0m\n\u001b[0m\u001b[0;32m      2\u001b[0m \u001b[0myears\u001b[0m \u001b[1;33m=\u001b[0m \u001b[1;33m[\u001b[0m \u001b[0mstr\u001b[0m\u001b[1;33m(\u001b[0m\u001b[0mx\u001b[0m\u001b[1;33m)\u001b[0m \u001b[1;32mfor\u001b[0m \u001b[0mx\u001b[0m \u001b[1;32min\u001b[0m \u001b[0mtmp\u001b[0m\u001b[1;33m.\u001b[0m\u001b[0mindex\u001b[0m\u001b[1;33m]\u001b[0m\u001b[1;33m\u001b[0m\u001b[1;33m\u001b[0m\u001b[0m\n",
      "\u001b[1;31mNameError\u001b[0m: name 'test' is not defined"
     ]
    }
   ],
   "source": [
    "tmp = pd.crosstab(test[\"year\"], test[\"topic\"], normalize=\"index\")\n",
    "years = [ str(x) for x in tmp.index]"
   ]
  },
  {
   "cell_type": "code",
   "execution_count": 28,
   "metadata": {
    "scrolled": false
   },
   "outputs": [
    {
     "ename": "NameError",
     "evalue": "name 'tmp' is not defined",
     "output_type": "error",
     "traceback": [
      "\u001b[1;31m---------------------------------------------------------------------------\u001b[0m",
      "\u001b[1;31mNameError\u001b[0m                                 Traceback (most recent call last)",
      "\u001b[1;32m<ipython-input-28-f58f18daac25>\u001b[0m in \u001b[0;36m<module>\u001b[1;34m\u001b[0m\n\u001b[1;32m----> 1\u001b[1;33m \u001b[1;32mfor\u001b[0m \u001b[0mtopic\u001b[0m \u001b[1;32min\u001b[0m \u001b[0mtmp\u001b[0m\u001b[1;33m:\u001b[0m\u001b[1;33m\u001b[0m\u001b[1;33m\u001b[0m\u001b[0m\n\u001b[0m\u001b[0;32m      2\u001b[0m     \u001b[0mfig\u001b[0m\u001b[1;33m,\u001b[0m \u001b[0max\u001b[0m \u001b[1;33m=\u001b[0m \u001b[0mplt\u001b[0m\u001b[1;33m.\u001b[0m\u001b[0msubplots\u001b[0m\u001b[1;33m(\u001b[0m\u001b[1;33m)\u001b[0m\u001b[1;33m\u001b[0m\u001b[1;33m\u001b[0m\u001b[0m\n\u001b[0;32m      3\u001b[0m     \u001b[0mplt\u001b[0m\u001b[1;33m.\u001b[0m\u001b[0mplot\u001b[0m\u001b[1;33m(\u001b[0m\u001b[0myears\u001b[0m\u001b[1;33m,\u001b[0m \u001b[0mtmp\u001b[0m\u001b[1;33m[\u001b[0m\u001b[0mtopic\u001b[0m\u001b[1;33m]\u001b[0m\u001b[1;33m.\u001b[0m\u001b[0mvalues\u001b[0m\u001b[1;33m)\u001b[0m\u001b[1;33m\u001b[0m\u001b[1;33m\u001b[0m\u001b[0m\n\u001b[0;32m      4\u001b[0m     \u001b[0mplt\u001b[0m\u001b[1;33m.\u001b[0m\u001b[0mylim\u001b[0m\u001b[1;33m(\u001b[0m\u001b[1;36m0\u001b[0m\u001b[1;33m,\u001b[0m \u001b[1;36m0.4\u001b[0m\u001b[1;33m)\u001b[0m\u001b[1;33m\u001b[0m\u001b[1;33m\u001b[0m\u001b[0m\n\u001b[0;32m      5\u001b[0m     \u001b[0mplt\u001b[0m\u001b[1;33m.\u001b[0m\u001b[0mxticks\u001b[0m\u001b[1;33m(\u001b[0m\u001b[0myears\u001b[0m\u001b[1;33m,\u001b[0m \u001b[0myears\u001b[0m\u001b[1;33m,\u001b[0m \u001b[0mrotation\u001b[0m\u001b[1;33m=\u001b[0m\u001b[1;34m'vertical'\u001b[0m\u001b[1;33m)\u001b[0m\u001b[1;33m\u001b[0m\u001b[1;33m\u001b[0m\u001b[0m\n",
      "\u001b[1;31mNameError\u001b[0m: name 'tmp' is not defined"
     ]
    }
   ],
   "source": [
    "for topic in tmp:\n",
    "    fig, ax = plt.subplots()\n",
    "    plt.plot(years, tmp[topic].values)\n",
    "    plt.ylim(0, 0.4)\n",
    "    plt.xticks(years, years, rotation='vertical')\n",
    "    plt.title(\"topic \"+ str(topic))"
   ]
  },
  {
   "cell_type": "code",
   "execution_count": null,
   "metadata": {},
   "outputs": [],
   "source": [
    "check = test[test[\"topic\"]==18]\n",
    "check[check[\"year\"] == 2017][\"paragraph\"].iloc[0].replace(\"WRAPTEXT\", \"\")"
   ]
  },
  {
   "cell_type": "code",
   "execution_count": null,
   "metadata": {
    "scrolled": true
   },
   "outputs": [],
   "source": [
    "## search for certain key word\n",
    "keyword = \"shareholder\"\n",
    "check[check[\"paragraph\"].map(lambda x: keyword in x)]"
   ]
  },
  {
   "cell_type": "markdown",
   "metadata": {},
   "source": [
    "## Interactive visualization"
   ]
  },
  {
   "cell_type": "code",
   "execution_count": null,
   "metadata": {},
   "outputs": [],
   "source": [
    "%%time\n",
    "from pyLDAvis import sklearn as sklearn_lda\n",
    "import pickle \n",
    "import pyLDAvis\n",
    "\n",
    "LDAvis_prepared = sklearn_lda.prepare(lda, count_data, count_vectorizer)"
   ]
  },
  {
   "cell_type": "code",
   "execution_count": null,
   "metadata": {},
   "outputs": [],
   "source": [
    "pyLDAvis.enable_notebook()\n",
    "LDAvis_prepared"
   ]
  },
  {
   "cell_type": "markdown",
   "metadata": {},
   "source": [
    "## Visualize components for each year (stop using for now)"
   ]
  },
  {
   "cell_type": "code",
   "execution_count": null,
   "metadata": {},
   "outputs": [],
   "source": [
    "# event_tp = df.groupby(by=[\"year\",\"topic\"])[\"topic\"].count().unstack().fillna(0)\n",
    "# tmp = event_tp.T.apply(sum)\n",
    "# event_tp = event_tp.apply(lambda x: x/tmp)\n",
    "# event_tp.index = [str(x)[:10] for x in event_tp.index]\n",
    "\n",
    "# fig, ax = plt.subplots(figsize=(16, 5))\n",
    "# colors = ['tab:blue', 'tab:orange', 'tab:green', 'tab:red', \n",
    "#           'tab:purple', 'tab:brown', 'tab:pink', 'tab:gray', 'tab:olive', 'tab:cyan']\n",
    "# bottom = np.array([0]*event_tp.shape[0])\n",
    "# x = event_tp.index.values\n",
    "\n",
    "# for i in event_tp.columns:\n",
    "# #     print(event_tp[i].values)\n",
    "#     plt.bar(x, event_tp[i].values, width=0.5, color=colors[int(i-1)], bottom=bottom)\n",
    "#     bottom = bottom + event_tp[i]\n",
    "\n",
    "# plt.legend(event_tp.columns)\n",
    "# plt.title(\"Topic distribution across events\")"
   ]
  }
 ],
 "metadata": {
  "kernelspec": {
   "display_name": "Python 3",
   "language": "python",
   "name": "python3"
  },
  "language_info": {
   "codemirror_mode": {
    "name": "ipython",
    "version": 3
   },
   "file_extension": ".py",
   "mimetype": "text/x-python",
   "name": "python",
   "nbconvert_exporter": "python",
   "pygments_lexer": "ipython3",
   "version": "3.7.3"
  }
 },
 "nbformat": 4,
 "nbformat_minor": 2
}
