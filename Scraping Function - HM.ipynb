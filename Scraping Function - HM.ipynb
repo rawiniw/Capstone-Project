{
 "cells": [
  {
   "cell_type": "code",
   "execution_count": 18,
   "metadata": {},
   "outputs": [],
   "source": [
    "from bs4 import BeautifulSoup\n",
    "import requests\n",
    "import os\n",
    "from pdfminer.pdfparser import PDFParser\n",
    "from pdfminer.pdfdocument import PDFDocument\n",
    "\n",
    "\n",
    "def get_documents(file_extension, url, time_indicator, directory):\n",
    "    r  = requests.get(url)\n",
    "    data = r.text\n",
    "    soup = BeautifulSoup(data)\n",
    "    \n",
    "    url_list = []\n",
    "    \n",
    "    for link in soup.find_all('a'):\n",
    "        try:\n",
    "            if file_extension in link.get('href'):\n",
    "                url_list.append(link.get('href'))\n",
    "        except:\n",
    "            None\n",
    "            \n",
    "    os.chdir(directory)\n",
    "    \n",
    "    for index, url in enumerate(url_list):\n",
    "        try:\n",
    "            r = requests.get(url)\n",
    "\n",
    "            write_path = time_indicator + \"_file_\" + str(index) + file_extension\n",
    "\n",
    "            with open(write_path,'wb') as f: \n",
    "                f.write(r.content) \n",
    "\n",
    "            with open(write_path, 'rb') as fp:\n",
    "                parser = PDFParser(fp)\n",
    "                doc = PDFDocument(parser)\n",
    "\n",
    "                try:\n",
    "                    subject = doc.info[0]['Subject'].decode(\"utf-8\") \n",
    "                    subject = subject.replace('/', '')\n",
    "                except:\n",
    "                    subject = \"no_subject\" + str(index)\n",
    "\n",
    "                try:\n",
    "                    creation = doc.info[0]['CreationDate'].decode(\"utf-8\")[2:-4]\n",
    "                except:\n",
    "                    creation = \"no_creation\" + str(index)\n",
    "\n",
    "            new_path = creation + '_' + subject + file_extension\n",
    "\n",
    "            os.rename(write_path, new_path)\n",
    "        except FileExistsError:\n",
    "            print(\"duplicate\")\n",
    "            os.remove(write_path)\n",
    "            pass\n",
    "\n",
    "    os.chdir(\"..\")"
   ]
  },
  {
   "cell_type": "code",
   "execution_count": 24,
   "metadata": {},
   "outputs": [
    {
     "ename": "FileNotFoundError",
     "evalue": "[WinError 2] The system cannot find the file specified: 'Walmart'",
     "output_type": "error",
     "traceback": [
      "\u001b[1;31m---------------------------------------------------------------------------\u001b[0m",
      "\u001b[1;31mFileNotFoundError\u001b[0m                         Traceback (most recent call last)",
      "\u001b[1;32m<ipython-input-24-6ece351e1ade>\u001b[0m in \u001b[0;36m<module>\u001b[1;34m\u001b[0m\n\u001b[0;32m      5\u001b[0m                   \u001b[0murl\u001b[0m \u001b[1;33m=\u001b[0m \u001b[0murl\u001b[0m\u001b[1;33m,\u001b[0m\u001b[1;33m\u001b[0m\u001b[1;33m\u001b[0m\u001b[0m\n\u001b[0;32m      6\u001b[0m                   \u001b[0mtime_indicator\u001b[0m \u001b[1;33m=\u001b[0m \u001b[0mstr\u001b[0m\u001b[1;33m(\u001b[0m\u001b[0myear\u001b[0m\u001b[1;33m)\u001b[0m\u001b[1;33m,\u001b[0m\u001b[1;33m\u001b[0m\u001b[1;33m\u001b[0m\u001b[0m\n\u001b[1;32m----> 7\u001b[1;33m                   directory = \"Walmart\")\n\u001b[0m",
      "\u001b[1;32m<ipython-input-18-feca8eb18d2f>\u001b[0m in \u001b[0;36mget_documents\u001b[1;34m(file_extension, url, time_indicator, directory)\u001b[0m\n\u001b[0;32m     20\u001b[0m             \u001b[1;32mNone\u001b[0m\u001b[1;33m\u001b[0m\u001b[1;33m\u001b[0m\u001b[0m\n\u001b[0;32m     21\u001b[0m \u001b[1;33m\u001b[0m\u001b[0m\n\u001b[1;32m---> 22\u001b[1;33m     \u001b[0mos\u001b[0m\u001b[1;33m.\u001b[0m\u001b[0mchdir\u001b[0m\u001b[1;33m(\u001b[0m\u001b[0mdirectory\u001b[0m\u001b[1;33m)\u001b[0m\u001b[1;33m\u001b[0m\u001b[1;33m\u001b[0m\u001b[0m\n\u001b[0m\u001b[0;32m     23\u001b[0m \u001b[1;33m\u001b[0m\u001b[0m\n\u001b[0;32m     24\u001b[0m     \u001b[1;32mfor\u001b[0m \u001b[0mindex\u001b[0m\u001b[1;33m,\u001b[0m \u001b[0murl\u001b[0m \u001b[1;32min\u001b[0m \u001b[0menumerate\u001b[0m\u001b[1;33m(\u001b[0m\u001b[0murl_list\u001b[0m\u001b[1;33m)\u001b[0m\u001b[1;33m:\u001b[0m\u001b[1;33m\u001b[0m\u001b[1;33m\u001b[0m\u001b[0m\n",
      "\u001b[1;31mFileNotFoundError\u001b[0m: [WinError 2] The system cannot find the file specified: 'Walmart'"
     ]
    }
   ],
   "source": [
    "for year in range(2015, 2020):\n",
    "    url = \"https://ir.aboutamazon.com/sec-filings/\" + str(year) + \"/default.aspx\"\n",
    "    \n",
    "    get_documents(file_extension = '.pdf', \n",
    "                  url = url, \n",
    "                  time_indicator = str(year),\n",
    "                  directory = \"Amazon\")"
   ]
  }
 ],
 "metadata": {
  "kernelspec": {
   "display_name": "Python 3",
   "language": "python",
   "name": "python3"
  },
  "language_info": {
   "codemirror_mode": {
    "name": "ipython",
    "version": 3
   },
   "file_extension": ".py",
   "mimetype": "text/x-python",
   "name": "python",
   "nbconvert_exporter": "python",
   "pygments_lexer": "ipython3",
   "version": "3.7.3"
  }
 },
 "nbformat": 4,
 "nbformat_minor": 2
}
