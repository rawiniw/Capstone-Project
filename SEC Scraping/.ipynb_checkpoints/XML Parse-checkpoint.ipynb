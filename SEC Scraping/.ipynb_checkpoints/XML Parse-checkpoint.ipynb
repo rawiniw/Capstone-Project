{
 "cells": [
  {
   "cell_type": "code",
   "execution_count": 1,
   "metadata": {},
   "outputs": [
    {
     "data": {
      "text/plain": [
       "['AMZN_XML', 'COST_XML', 'KR_XML', 'TGT_XML', 'WMT_XML']"
      ]
     },
     "execution_count": 1,
     "metadata": {},
     "output_type": "execute_result"
    }
   ],
   "source": [
    "import os\n",
    "folders = os.listdir(\"XML\")\n",
    "folders"
   ]
  },
  {
   "cell_type": "code",
   "execution_count": 2,
   "metadata": {},
   "outputs": [],
   "source": [
    "import re\n",
    "import nltk\n",
    "from nltk.tokenize import word_tokenize\n",
    "\n",
    "folder_name = \"XML_PARSED_2\"\n",
    "os.mkdir(folder_name)\n",
    "\n",
    "words = set(nltk.corpus.words.words())\n",
    "xml_stop_words = ['border', 'xa', 'valign', 'td', 'style',\n",
    "                  'font', 'px', 'tr', 'indent', 'times', \n",
    "                  'new', 'roman', 'size', 'bottom', 'nowrap',\n",
    "                  'bgcolor', 'em', 'text', 'align', 'center',\n",
    "                  'family', 'top', 'margin', 'false', 'true',\n",
    "                  'padding', 'div', 'inherit', 'color', 'background',\n",
    "                  'color', 'vertical', 'left', 'paragraph', 'width',\n",
    "                  'overflow', 'hidden', 'role', 'publisher', 'solid',\n",
    "                  'codification', 'middle', 'supplement', 'span']\n",
    "\n",
    "for company in folders:\n",
    "    os.mkdir(folder_name + \"\\\\\"+ company)\n",
    "    \n",
    "    files = [\"XML\\\\\" + company + \"\\\\\" + file for file in os.listdir(\"XML\\\\\" + company)]\n",
    "    temp = [file.replace(\"XML\", folder_name, 1) for file in files]\n",
    "    \n",
    "    for file in files:\n",
    "        with open(file, encoding = \"utf-8\") as fp:\n",
    "            text = fp.read()\n",
    "        \n",
    "        remove = re.sub(r'<(.|\\n)*?>' , '', text)\n",
    "        remove = re.sub(r'GRAPHIC(.|\\n)*?end' , '', remove)\n",
    "        remove = re.sub(r'&.*?;', '', remove)\n",
    "        remove =  re.sub(r'[^a-zA-Z ]', ' ', remove.lower())\n",
    "        remove =  re.sub(r'\\s+', ' ', remove)\n",
    "        \n",
    "        remove = \" \".join(w for w in nltk.wordpunct_tokenize(remove) \\\n",
    "         if w.lower() in words or not w.isalpha())\n",
    "        \n",
    "        word_tokens = word_tokenize(remove)\n",
    "        filtered = [w for w in word_tokens if not w in xml_stop_words]\n",
    "        remove = ' '.join(filtered)\n",
    "\n",
    "        remove = ' '.join([w for w in remove.split() if len(w)>1])\n",
    "        \n",
    "        with open(file.replace(\"XML\", folder_name, 1), \"w\") as new_file:\n",
    "            new_file.write(remove)"
   ]
  },
  {
   "cell_type": "code",
   "execution_count": 3,
   "metadata": {},
   "outputs": [],
   "source": [
    "byte_lim = 10000\n",
    "\n",
    "for company in folders:\n",
    "    for file in os.listdir(folder_name + '\\\\' + company):\n",
    "        path = folder_name + '\\\\' + company + '\\\\' + file\n",
    "        \n",
    "        if (os.path.getsize(path) < byte_lim or file[:4] == '2020'):\n",
    "            os.remove(path)"
   ]
  }
 ],
 "metadata": {
  "kernelspec": {
   "display_name": "Python 3",
   "language": "python",
   "name": "python3"
  },
  "language_info": {
   "codemirror_mode": {
    "name": "ipython",
    "version": 3
   },
   "file_extension": ".py",
   "mimetype": "text/x-python",
   "name": "python",
   "nbconvert_exporter": "python",
   "pygments_lexer": "ipython3",
   "version": "3.7.1"
  }
 },
 "nbformat": 4,
 "nbformat_minor": 2
}
