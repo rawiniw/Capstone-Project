{
 "cells": [
  {
   "cell_type": "code",
   "execution_count": 1,
   "metadata": {},
   "outputs": [],
   "source": [
    "import os, gensim\n",
    "\n",
    "def iter_documents(top_directory):\n",
    "    \"\"\"Iterate over all documents, yielding a document (=list of utf8 tokens) at a time.\"\"\"\n",
    "    for root, dirs, files in os.walk(top_directory):\n",
    "        for file in filter(lambda file: file.endswith('.txt'), files):\n",
    "            document = open(os.path.join(root, file), encoding='utf8').read() # read the entire document, as one big string\n",
    "            yield gensim.utils.tokenize(document, lower=True) # or whatever tokenization suits you\n",
    "\n",
    "class MyCorpus(object):\n",
    "    def __init__(self, top_dir):\n",
    "        self.top_dir = top_dir\n",
    "        self.dictionary = gensim.corpora.Dictionary(iter_documents(top_dir))\n",
    "        self.dictionary.filter_extremes(no_below=1, keep_n=30000) # check API docs for pruning params\n",
    "\n",
    "    def __iter__(self):\n",
    "        for tokens in iter_documents(self.top_dir):\n",
    "            yield self.dictionary.doc2bow(tokens)\n",
    "\n",
    "            \n",
    "folder = 'WMT_XML'       \n",
    "\n",
    "corpus = MyCorpus(folder) # create a dictionary"
   ]
  },
  {
   "cell_type": "code",
   "execution_count": 2,
   "metadata": {},
   "outputs": [],
   "source": [
    "import logging\n",
    "import os\n",
    "from gensim import corpora, utils\n",
    "from gensim.models.wrappers.dtmmodel import DtmModel\n",
    "import numpy as np\n",
    "\n",
    "os.environ['DTM_PATH'] = r\"dtm-win64.exe\"\n",
    "\n",
    "if not os.environ.get('DTM_PATH', None):\n",
    "    raise ValueError(\"SKIP: You need to set the DTM path\")"
   ]
  },
  {
   "cell_type": "code",
   "execution_count": 3,
   "metadata": {},
   "outputs": [
    {
     "name": "stdout",
     "output_type": "stream",
     "text": [
      "Year 2015 has 139 documents\n",
      "Year 2016 has 142 documents\n",
      "Year 2017 has 204 documents\n",
      "Year 2018 has 222 documents\n",
      "Year 2019 has 183 documents\n"
     ]
    }
   ],
   "source": [
    "import glob\n",
    "\n",
    "time_seq = []\n",
    "\n",
    "for year in range(2015, 2020):\n",
    "    docs_num = len(glob.glob(folder + \"\\\\\" + str(year) + \"*\"))\n",
    "    print(f\"Year {year} has {docs_num} documents\")\n",
    "    time_seq.append(docs_num)"
   ]
  },
  {
   "cell_type": "code",
   "execution_count": 4,
   "metadata": {},
   "outputs": [
    {
     "data": {
      "text/plain": [
       "[139, 142, 204, 222, 183]"
      ]
     },
     "execution_count": 4,
     "metadata": {},
     "output_type": "execute_result"
    }
   ],
   "source": [
    "time_seq"
   ]
  },
  {
   "cell_type": "code",
   "execution_count": 5,
   "metadata": {},
   "outputs": [],
   "source": [
    "dtm_path = os.environ['DTM_PATH']"
   ]
  },
  {
   "cell_type": "code",
   "execution_count": 6,
   "metadata": {},
   "outputs": [
    {
     "ename": "ValueError",
     "evalue": "mismatched timeslices %890 for corpus of len 1655",
     "output_type": "error",
     "traceback": [
      "\u001b[1;31m---------------------------------------------------------------------------\u001b[0m",
      "\u001b[1;31mValueError\u001b[0m                                Traceback (most recent call last)",
      "\u001b[1;32m<ipython-input-6-9d775dc09c79>\u001b[0m in \u001b[0;36m<module>\u001b[1;34m\u001b[0m\n\u001b[0;32m      2\u001b[0m \u001b[1;33m\u001b[0m\u001b[0m\n\u001b[0;32m      3\u001b[0m model = DtmModel(dtm_path, corpus, time_seq, num_topics=num_topics,\n\u001b[1;32m----> 4\u001b[1;33m                  id2word=corpus.dictionary, initialize_lda=True)\n\u001b[0m",
      "\u001b[1;32mc:\\users\\chenson\\appdata\\local\\programs\\python\\python37\\lib\\site-packages\\gensim\\models\\wrappers\\dtmmodel.py\u001b[0m in \u001b[0;36m__init__\u001b[1;34m(self, dtm_path, corpus, time_slices, mode, model, num_topics, id2word, prefix, lda_sequence_min_iter, lda_sequence_max_iter, lda_max_em_iter, alpha, top_chain_var, rng_seed, initialize_lda)\u001b[0m\n\u001b[0;32m    134\u001b[0m             raise ValueError(\n\u001b[0;32m    135\u001b[0m                 \u001b[1;34m\"mismatched timeslices %{slices} for corpus of len {clen}\"\u001b[0m\u001b[1;33m\u001b[0m\u001b[1;33m\u001b[0m\u001b[0m\n\u001b[1;32m--> 136\u001b[1;33m                 \u001b[1;33m.\u001b[0m\u001b[0mformat\u001b[0m\u001b[1;33m(\u001b[0m\u001b[0mslices\u001b[0m\u001b[1;33m=\u001b[0m\u001b[0msum\u001b[0m\u001b[1;33m(\u001b[0m\u001b[0mtime_slices\u001b[0m\u001b[1;33m)\u001b[0m\u001b[1;33m,\u001b[0m \u001b[0mclen\u001b[0m\u001b[1;33m=\u001b[0m\u001b[0mlencorpus\u001b[0m\u001b[1;33m)\u001b[0m\u001b[1;33m\u001b[0m\u001b[1;33m\u001b[0m\u001b[0m\n\u001b[0m\u001b[0;32m    137\u001b[0m             )\n\u001b[0;32m    138\u001b[0m         \u001b[0mself\u001b[0m\u001b[1;33m.\u001b[0m\u001b[0mlencorpus\u001b[0m \u001b[1;33m=\u001b[0m \u001b[0mlencorpus\u001b[0m\u001b[1;33m\u001b[0m\u001b[1;33m\u001b[0m\u001b[0m\n",
      "\u001b[1;31mValueError\u001b[0m: mismatched timeslices %890 for corpus of len 1655"
     ]
    }
   ],
   "source": [
    "num_topics = 5\n",
    "\n",
    "model = DtmModel(dtm_path, corpus, time_seq, num_topics=num_topics,\n",
    "                 id2word=corpus.dictionary, initialize_lda=True)"
   ]
  },
  {
   "cell_type": "code",
   "execution_count": null,
   "metadata": {},
   "outputs": [],
   "source": [
    "topic_list = []\n",
    "show_top = 7\n",
    "\n",
    "for id in range(num_topics):\n",
    "    topic = [model.show_topic(topicid=id, time=time, topn=show_top) for time in range(5)]\n",
    "    topic_list.append(topic)"
   ]
  },
  {
   "cell_type": "code",
   "execution_count": null,
   "metadata": {
    "scrolled": true
   },
   "outputs": [],
   "source": [
    "topic_list[0]"
   ]
  },
  {
   "cell_type": "code",
   "execution_count": null,
   "metadata": {},
   "outputs": [],
   "source": [
    "import matplotlib.pyplot as plt\n",
    "import numpy as np\n",
    "%matplotlib inline"
   ]
  },
  {
   "cell_type": "code",
   "execution_count": null,
   "metadata": {},
   "outputs": [],
   "source": [
    "x = range(2015,2015+len(time_seq))\n",
    "\n",
    "for index, topic in enumerate(topic_list):\n",
    "    plt.title(\"Topic \" + str(index+1))\n",
    "\n",
    "    for word in range(show_top):\n",
    "        prob = [sub[word] for sub in topic]\n",
    "        values = [probability[0] for probability in prob]\n",
    "        plt.plot(x, values, label = prob[0][1])\n",
    "    \n",
    "    plt.xticks(np.arange(2015, 2020, step = 1))\n",
    "    plt.ylabel(\"Word Distribution\")\n",
    "    plt.xlabel(\"Year\")\n",
    "    plt.legend(loc='center left', bbox_to_anchor=(1, 0.5))\n",
    "\n",
    "    plt.show()"
   ]
  },
  {
   "cell_type": "code",
   "execution_count": null,
   "metadata": {},
   "outputs": [],
   "source": [
    "for topic in range(num_topics):\n",
    "    print(f'Topic {topic}')\n",
    "    print(model.print_topics()[topic])\n",
    "    print()"
   ]
  }
 ],
 "metadata": {
  "kernelspec": {
   "display_name": "Python 3",
   "language": "python",
   "name": "python3"
  },
  "language_info": {
   "codemirror_mode": {
    "name": "ipython",
    "version": 3
   },
   "file_extension": ".py",
   "mimetype": "text/x-python",
   "name": "python",
   "nbconvert_exporter": "python",
   "pygments_lexer": "ipython3",
   "version": "3.7.1"
  }
 },
 "nbformat": 4,
 "nbformat_minor": 2
}
