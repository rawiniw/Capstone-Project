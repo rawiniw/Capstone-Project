{
 "cells": [
  {
   "cell_type": "code",
   "execution_count": 154,
   "metadata": {},
   "outputs": [
    {
     "data": {
      "text/plain": [
       "['AMZN_XML', 'COST_XML', 'KR_XML', 'TGT_XML', 'WMT_XML']"
      ]
     },
     "execution_count": 154,
     "metadata": {},
     "output_type": "execute_result"
    }
   ],
   "source": [
    "import os\n",
    "folders = os.listdir(\"XML\")\n",
    "folders"
   ]
  },
  {
   "cell_type": "code",
   "execution_count": null,
   "metadata": {},
   "outputs": [],
   "source": [
    "os.mkdir(\"XML_PARSED\")\n",
    "\n",
    "for company in folders:\n",
    "    os.mkdir(\"XML_PARSED\\\\\" + company)\n",
    "    \n",
    "    files = [\"XML\\\\\" + company + \"\\\\\" + file for file in os.listdir(\"XML\\\\\" + company)]\n",
    "    temp = [file.replace(\"XML\", \"XML_PARSED\", 1) for file in files]\n",
    "    \n",
    "    for file in files:\n",
    "        with open(file, encoding = \"utf-8\") as fp:\n",
    "            text = fp.read()\n",
    "        \n",
    "        remove = re.sub(r'<(.|\\n)*?>' , '', text)\n",
    "        remove = re.sub(r'GRAPHIC(.|\\n)*?end' , '', remove)\n",
    "        remove = re.sub(r'&.*?;', '', remove)\n",
    "        remove =  re.sub(r'[^a-zA-Z ]', ' ', remove.lower())\n",
    "        remove =  re.sub(r'\\s+', ' ', remove)\n",
    "        \n",
    "        with open(file.replace(\"XML\", \"XML_PARSED\", 1), \"w\") as new_file:\n",
    "            new_file.write(remove)"
   ]
  }
 ],
 "metadata": {
  "kernelspec": {
   "display_name": "Python 3",
   "language": "python",
   "name": "python3"
  },
  "language_info": {
   "codemirror_mode": {
    "name": "ipython",
    "version": 3
   },
   "file_extension": ".py",
   "mimetype": "text/x-python",
   "name": "python",
   "nbconvert_exporter": "python",
   "pygments_lexer": "ipython3",
   "version": "3.7.1"
  }
 },
 "nbformat": 4,
 "nbformat_minor": 2
}
